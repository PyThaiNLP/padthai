{
 "cells": [
  {
   "cell_type": "markdown",
   "metadata": {
    "id": "7u1U-w0xlJm5"
   },
   "source": [
    "# Thai Text Generation from Few-shot learning with Flax GPT-2-base\n",
    "\n",
    "I use quote from Albert Einstein at https://th.wikiquote.org/wiki/อัลเบิร์ต_ไอน์สไตน์/. It's CC-BY-SA 3.0 License."
   ]
  },
  {
   "cell_type": "code",
   "execution_count": 1,
   "metadata": {
    "colab": {
     "base_uri": "https://localhost:8080/"
    },
    "id": "HqOoVgcflIlk",
    "outputId": "c0da0f64-4ffa-4411-b243-c0a786b48078"
   },
   "outputs": [
    {
     "name": "stdout",
     "output_type": "stream",
     "text": [
      "Collecting padthai\n",
      "  Downloading padthai-0.1.2-py3-none-any.whl (11 kB)\n",
      "Collecting transformers<5.0\n",
      "  Downloading transformers-4.9.1-py3-none-any.whl (2.6 MB)\n",
      "\u001b[K     |████████████████████████████████| 2.6 MB 12.5 MB/s \n",
      "\u001b[?25hCollecting huggingface-hub==0.0.12\n",
      "  Downloading huggingface_hub-0.0.12-py3-none-any.whl (37 kB)\n",
      "Collecting pyyaml>=5.1\n",
      "  Downloading PyYAML-5.4.1-cp37-cp37m-manylinux1_x86_64.whl (636 kB)\n",
      "\u001b[K     |████████████████████████████████| 636 kB 51.6 MB/s \n",
      "\u001b[?25hRequirement already satisfied: tqdm>=4.27 in /usr/local/lib/python3.7/dist-packages (from transformers<5.0->padthai) (4.41.1)\n",
      "Requirement already satisfied: requests in /usr/local/lib/python3.7/dist-packages (from transformers<5.0->padthai) (2.23.0)\n",
      "Requirement already satisfied: regex!=2019.12.17 in /usr/local/lib/python3.7/dist-packages (from transformers<5.0->padthai) (2019.12.20)\n",
      "Requirement already satisfied: packaging in /usr/local/lib/python3.7/dist-packages (from transformers<5.0->padthai) (21.0)\n",
      "Requirement already satisfied: numpy>=1.17 in /usr/local/lib/python3.7/dist-packages (from transformers<5.0->padthai) (1.19.5)\n",
      "Requirement already satisfied: importlib-metadata in /usr/local/lib/python3.7/dist-packages (from transformers<5.0->padthai) (4.6.1)\n",
      "Requirement already satisfied: filelock in /usr/local/lib/python3.7/dist-packages (from transformers<5.0->padthai) (3.0.12)\n",
      "Collecting sacremoses\n",
      "  Downloading sacremoses-0.0.45-py3-none-any.whl (895 kB)\n",
      "\u001b[K     |████████████████████████████████| 895 kB 56.0 MB/s \n",
      "\u001b[?25hCollecting tokenizers<0.11,>=0.10.1\n",
      "  Downloading tokenizers-0.10.3-cp37-cp37m-manylinux_2_5_x86_64.manylinux1_x86_64.manylinux_2_12_x86_64.manylinux2010_x86_64.whl (3.3 MB)\n",
      "\u001b[K     |████████████████████████████████| 3.3 MB 35.6 MB/s \n",
      "\u001b[?25hRequirement already satisfied: typing-extensions in /usr/local/lib/python3.7/dist-packages (from huggingface-hub==0.0.12->transformers<5.0->padthai) (3.7.4.3)\n",
      "Requirement already satisfied: pyparsing>=2.0.2 in /usr/local/lib/python3.7/dist-packages (from packaging->transformers<5.0->padthai) (2.4.7)\n",
      "Requirement already satisfied: zipp>=0.5 in /usr/local/lib/python3.7/dist-packages (from importlib-metadata->transformers<5.0->padthai) (3.5.0)\n",
      "Requirement already satisfied: urllib3!=1.25.0,!=1.25.1,<1.26,>=1.21.1 in /usr/local/lib/python3.7/dist-packages (from requests->transformers<5.0->padthai) (1.24.3)\n",
      "Requirement already satisfied: chardet<4,>=3.0.2 in /usr/local/lib/python3.7/dist-packages (from requests->transformers<5.0->padthai) (3.0.4)\n",
      "Requirement already satisfied: idna<3,>=2.5 in /usr/local/lib/python3.7/dist-packages (from requests->transformers<5.0->padthai) (2.10)\n",
      "Requirement already satisfied: certifi>=2017.4.17 in /usr/local/lib/python3.7/dist-packages (from requests->transformers<5.0->padthai) (2021.5.30)\n",
      "Requirement already satisfied: click in /usr/local/lib/python3.7/dist-packages (from sacremoses->transformers<5.0->padthai) (7.1.2)\n",
      "Requirement already satisfied: joblib in /usr/local/lib/python3.7/dist-packages (from sacremoses->transformers<5.0->padthai) (1.0.1)\n",
      "Requirement already satisfied: six in /usr/local/lib/python3.7/dist-packages (from sacremoses->transformers<5.0->padthai) (1.15.0)\n",
      "Installing collected packages: tokenizers, sacremoses, pyyaml, huggingface-hub, transformers, padthai\n",
      "  Attempting uninstall: pyyaml\n",
      "    Found existing installation: PyYAML 3.13\n",
      "    Uninstalling PyYAML-3.13:\n",
      "      Successfully uninstalled PyYAML-3.13\n",
      "Successfully installed huggingface-hub-0.0.12 padthai-0.1.2 pyyaml-5.4.1 sacremoses-0.0.45 tokenizers-0.10.3 transformers-4.9.1\n"
     ]
    }
   ],
   "source": [
    "!pip install padthai"
   ]
  },
  {
   "cell_type": "code",
   "execution_count": 1,
   "metadata": {},
   "outputs": [],
   "source": [
    "import logging\n",
    "import sys\n",
    "\n",
    "root = logging.getLogger()\n",
    "root.setLevel(logging.DEBUG)\n",
    "\n",
    "handler = logging.StreamHandler(sys.stdout)\n",
    "handler.setLevel(logging.DEBUG)\n",
    "formatter = logging.Formatter('%(asctime)s - %(name)s - %(levelname)s - %(message)s')\n",
    "handler.setFormatter(formatter)\n",
    "root.addHandler(handler)"
   ]
  },
  {
   "cell_type": "code",
   "execution_count": 2,
   "metadata": {
    "id": "n7g5YhGllYHu"
   },
   "outputs": [],
   "source": [
    "data = [\n",
    "        \"กลศาสตร์ควอนตัมนั้นน่าอัศจรรย์ แต่เสียงในหัวใจของฉันบอกว่ามันยังไม่ใช่ความจริง ทฤษฎีบอกอะไรได้มากมาย แต่มันยังไม่พาเราเข้าใกล้ความลับของพระเจ้า ฉันคิดว่า พระเจ้าไม่ได้ทอยลูกเต๋าหรอก\",\n",
    "        \"1 ชั่วโมงที่ชายหนุ่มนั่งเคียงหญิงสาวผ่านไปไวราวกับ 1 นาที แต่ 1 นาทีที่เขานั่งบนเตาที่ร้อน ผ่านไปราวกับ 1 ชั่วโมง นี่คือสัมพัทธภาพ\",\n",
    "        \"เชาว์ปัญญาทำให้เรามีความกระจ่างชัดในเรื่อง ความสัมพันธ์ระหว่างกันของวิธีการกับเป้าหมาย แต่ลำพังการคิดหาเหตุผลนั้นมิอาจทำให้เรามีความรู้สึกเกี่ยวกับเป้าหมายพื้นฐานและเป้าหมายสุดท้ายได้ การทำความกระจ่างชัดเกี่ยวกับเป้าหมายพื้นฐานเหล่านี้ และการประเมินค่าก็ดี, ทั้งการทำให้เป้าหมายพื้นฐานเหล่านี้แน่นเหนียวในชีวิตทางอารมย์ความรู้สึกของปัจเจกบุคคลก็ดี สำหรับข้าพเจ้าแล้วดูเหมือนเป็นที่แน่นอนว่าหน้าที่สำคัญที่สุด ซึ่งศาสนาต้องแสดงบทบาทในชีวิตทางสังคมของมนุษย์\",\n",
    "        \"สมการมีความสำคัญต่อข้าพเจ้ามากกว่า, เพราะการเมืองเป็นเรื่องสำหรับปัจจุบันกาล, แต่สมการเป็นบางสิ่งบางอย่างสำหรับนิรันดร์กาล\",\n",
    "        \"มีไม่กี่คนหรอกที่เห็นด้วยตา และรู้สึกด้วยหัวใจของตนเอง\",\n",
    "        \"พระเจ้ามิได้ทรงเล่นลูกเต๋ากับเอกภพเป็นแน่\",\n",
    "        \"จินตนาการสำคัญกว่าความรู้\",\n",
    "        \"การเมืองนั้นแสนสั้น แต่สมการคงอยู่ชั่วนิรันดร์\",\n",
    "        \"หากข้อเท็จจริงไม่เหมาะกับทฤษฎี, จงเปลี่ยนข้อเท็จจริงนั้นเสีย\",\n",
    "        \"อย่าเป็นคนที่มุ่งหวังเพียงความสำเร็จ แต่จงมุ่งหวังความเป็นมนุษย์ที่มีคุณค่า\",\n",
    "        \"ความกลัวความตายเป็นความกลัวที่ไม่มีเหตุผลที่สุดของมนุษย์\",\n",
    "        \"มีเพียงชีวิตเพื่อผู้อื่นเท่านั้น ที่มีคุณค่าแก่การมีชีวิต\",\n",
    "        \"ไม่สามารถรักษาสันติได้ด้วยกำลัง หากแต่ด้วยความเข้าใจ\",\n",
    "        \"ความประสบความสำเร็จในชีวิตเท่ากับ A ดังนั้น A = x + y + z เมื่อ x เท่ากับงาน y เท่ากับเที่ยวเล่น และ z เท่ากับ หุบปากสนิท\",\n",
    "        \"ข้าพเจ้าไม่อาจทราบได้ว่าสงครามโลกครั้งที่ 3 ใช้อะไรสู้กัน แต่สงครามโลกครั้งที่ 4 จะต่อสู้กันด้วยท่อนไม้และก้อนหิน\",\n",
    "        \"สิ่งสำคัญอย่างยิ่งก็คือ อย่าได้หยุดตั้งคำถาม ความกระหายใฝ่เรียนรู้นั้นมีเหตุผลในตัวมันเองที่จะต้องดำรงอยู่ ช่วยไม่ได้เลยที่เราจะรู้สึกครั่นคร้ามเมื่อได้ครุ่นคิดถึงความลึกลับแห่งนิจนิรันดร์ชีวิต และลักษณะอันน่าพิศวงของสัจจะ แค่เพียงได้คิดคำนึงถึงความลึกลับเหล่านี้วันละนิดก็เพียงพอแล้ว จงอย่าได้สูญเสียความกระหายใฝ่รู้อันศักดิ์สิทธิ์นี้\"\n",
    "]"
   ]
  },
  {
   "cell_type": "code",
   "execution_count": 3,
   "metadata": {},
   "outputs": [
    {
     "data": {
      "text/plain": [
       "['กลศาสตร์ควอนตัมนั้นน่าอัศจรรย์ แต่เสียงในหัวใจของฉันบอกว่ามันยังไม่ใช่ความจริง ทฤษฎีบอกอะไรได้มากมาย แต่มันยังไม่พาเราเข้าใกล้ความลับของพระเจ้า ฉันคิดว่า พระเจ้าไม่ได้ทอยลูกเต๋าหรอก',\n",
       " '1 ชั่วโมงที่ชายหนุ่มนั่งเคียงหญิงสาวผ่านไปไวราวกับ 1 นาที แต่ 1 นาทีที่เขานั่งบนเตาที่ร้อน ผ่านไปราวกับ 1 ชั่วโมง นี่คือสัมพัทธภาพ',\n",
       " 'เชาว์ปัญญาทำให้เรามีความกระจ่างชัดในเรื่อง ความสัมพันธ์ระหว่างกันของวิธีการกับเป้าหมาย แต่ลำพังการคิดหาเหตุผลนั้นมิอาจทำให้เรามีความรู้สึกเกี่ยวกับเป้าหมายพื้นฐานและเป้าหมายสุดท้ายได้ การทำความกระจ่างชัดเกี่ยวกับเป้าหมายพื้นฐานเหล่านี้ และการประเมินค่าก็ดี, ทั้งการทำให้เป้าหมายพื้นฐานเหล่านี้แน่นเหนียวในชีวิตทางอารมย์ความรู้สึกของปัจเจกบุคคลก็ดี สำหรับข้าพเจ้าแล้วดูเหมือนเป็นที่แน่นอนว่าหน้าที่สำคัญที่สุด ซึ่งศาสนาต้องแสดงบทบาทในชีวิตทางสังคมของมนุษย์',\n",
       " 'สมการมีความสำคัญต่อข้าพเจ้ามากกว่า, เพราะการเมืองเป็นเรื่องสำหรับปัจจุบันกาล, แต่สมการเป็นบางสิ่งบางอย่างสำหรับนิรันดร์กาล',\n",
       " 'มีไม่กี่คนหรอกที่เห็นด้วยตา และรู้สึกด้วยหัวใจของตนเอง',\n",
       " 'พระเจ้ามิได้ทรงเล่นลูกเต๋ากับเอกภพเป็นแน่',\n",
       " 'จินตนาการสำคัญกว่าความรู้',\n",
       " 'การเมืองนั้นแสนสั้น แต่สมการคงอยู่ชั่วนิรันดร์',\n",
       " 'หากข้อเท็จจริงไม่เหมาะกับทฤษฎี, จงเปลี่ยนข้อเท็จจริงนั้นเสีย']"
      ]
     },
     "execution_count": 3,
     "metadata": {},
     "output_type": "execute_result"
    }
   ],
   "source": [
    "data[:9]"
   ]
  },
  {
   "cell_type": "code",
   "execution_count": 11,
   "metadata": {},
   "outputs": [
    {
     "data": {
      "text/plain": [
       "['อย่าเป็นคนที่มุ่งหวังเพียงความสำเร็จ แต่จงมุ่งหวังความเป็นมนุษย์ที่มีคุณค่า',\n",
       " 'ความกลัวความตายเป็นความกลัวที่ไม่มีเหตุผลที่สุดของมนุษย์',\n",
       " 'มีเพียงชีวิตเพื่อผู้อื่นเท่านั้น ที่มีคุณค่าแก่การมีชีวิต',\n",
       " 'ไม่สามารถรักษาสันติได้ด้วยกำลัง หากแต่ด้วยความเข้าใจ',\n",
       " 'ความประสบความสำเร็จในชีวิตเท่ากับ A ดังนั้น A = x + y + z เมื่อ x เท่ากับงาน y เท่ากับเที่ยวเล่น และ z เท่ากับ หุบปากสนิท',\n",
       " 'ข้าพเจ้าไม่อาจทราบได้ว่าสงครามโลกครั้งที่ 3 ใช้อะไรสู้กัน แต่สงครามโลกครั้งที่ 4 จะต่อสู้กันด้วยท่อนไม้และก้อนหิน',\n",
       " 'สิ่งสำคัญอย่างยิ่งก็คือ อย่าได้หยุดตั้งคำถาม ความกระหายใฝ่เรียนรู้นั้นมีเหตุผลในตัวมันเองที่จะต้องดำรงอยู่ ช่วยไม่ได้เลยที่เราจะรู้สึกครั่นคร้ามเมื่อได้ครุ่นคิดถึงความลึกลับแห่งนิจนิรันดร์ชีวิต และลักษณะอันน่าพิศวงของสัจจะ แค่เพียงได้คิดคำนึงถึงความลึกลับเหล่านี้วันละนิดก็เพียงพอแล้ว จงอย่าได้สูญเสียความกระหายใฝ่รู้อันศักดิ์สิทธิ์นี้']"
      ]
     },
     "execution_count": 11,
     "metadata": {},
     "output_type": "execute_result"
    }
   ],
   "source": [
    "data[9:]"
   ]
  },
  {
   "cell_type": "code",
   "execution_count": 4,
   "metadata": {
    "id": "6HAgsrnfmaCe"
   },
   "outputs": [
    {
     "name": "stderr",
     "output_type": "stream",
     "text": [
      "2022-10-07 09:06:21.622296: I tensorflow/stream_executor/platform/default/dso_loader.cc:49] Successfully opened dynamic library libcudart.so.11.0\n"
     ]
    },
    {
     "name": "stdout",
     "output_type": "stream",
     "text": [
      "2022-10-07 09:06:22,247 - tensorflow - DEBUG - Falling back to TensorFlow client; we recommended you install the Cloud TPU client directly with pip install cloud-tpu-client.\n",
      "2022-10-07 09:06:23,938 - git.cmd - DEBUG - Popen(['git', 'version'], cwd=/workspace/pythainlp-work/padthai/notebooks, universal_newlines=False, shell=None, istream=None)\n",
      "2022-10-07 09:06:23,956 - git.cmd - DEBUG - Popen(['git', 'version'], cwd=/workspace/pythainlp-work/padthai/notebooks, universal_newlines=False, shell=None, istream=None)\n"
     ]
    }
   ],
   "source": [
    "from padthai import *"
   ]
  },
  {
   "cell_type": "code",
   "execution_count": 5,
   "metadata": {
    "colab": {
     "base_uri": "https://localhost:8080/",
     "height": 412,
     "referenced_widgets": [
      "743feb2a7643450b98d79379166108f1",
      "7695d78727e04b33bfb6b8914a0e9121",
      "4b6c8c0aee2744e5b7d8c5f437b5e14b",
      "860b2cbaf09d42e5a3f35cb3ca20f6a4",
      "5e42e8e940a34909a683887059ded458",
      "2f77d6fe7c814fad86682611162e4eb3",
      "cb55a98022f24390b59787b46ceccd9c",
      "9e74ede745704f85a7ba3e7959a20877",
      "35ba84b799744a7b9055b2de9fb1a950",
      "439961b72b3943cc8367584326a72a68",
      "8fd5483c619e460a9c0a0301d60dffa3",
      "fa761a44898b4fcfadfa4911caa38b62",
      "603aafcdf4654f1185096efb6093e6d9",
      "576bffe742954893a2dc96f2e5037ad7",
      "179fdd16f53c4b8fb89ffe39df2f20e1",
      "f9a7ca5bebba483b9a55f9bb01913e9f",
      "0efbf24b692044b7967004d6c42be007",
      "d0b013e218e843bfb9562934da8b8ed1",
      "16a950fb1874440eb3d46d0c2985b35a",
      "425c5f8c85a24472874665ddf2d2e6b3",
      "c89aa6430e694ff0b1a343c3bebc6174",
      "8cbcea06860f427399cb59da28335982",
      "a7ca4990b44c4c4baea9c38d1a91671b",
      "edd0fe40238844b89c97ec09bc6cacf5",
      "97f8409b1d6645b292f258cb4d697da5",
      "e03f9a1fec834dedb0b3acf5f5396d5a",
      "5d7e40206ecb4e9b8739fe9adbd82d6c",
      "56df4e17f9164aec9b4e74d87e733f22",
      "8d43518ea1cf4433ba1a1b4a36db2cc6",
      "fa952a25051841499d6a30fc6aa5dfd8",
      "edda847533c047f6bf17d1bf743945c7",
      "7c841a76e55345c485a91669afaae882",
      "252d90aff51e4b6986772000e8bebf4e",
      "21209726ea624b1e99c6d4f03c8f649f",
      "6a9d458958c14c718da889f1a10ee964",
      "c5374c4d9fd3420ead5b7868a21a4b35",
      "76fa5302291945c4a48f413b2cd30f94",
      "3e4befb7da61437db82a7f2c020449c6",
      "d8456cc65cc44ccda634ed41b6d98428",
      "deddba70488f46f39cb5b55ad1b74fd2",
      "1e2fd159440d4cc89a32caf0001a4085",
      "80ba42dd2cd04a0680a49c13b7fbaa3a",
      "8eca1f0e454f43b4918f430533192ea5",
      "3cdad6ad3f2940bbb26342a79a378bfc",
      "663f53ae36e846289f5fc47646c2aa1f",
      "969faf35ab5c46709e5af0f4c61f59a1",
      "140a41c38c0e432d8dadb6559d83b4c0",
      "c1b6338f27e749afa91f66c52fcb250d",
      "c55002b12ce142ffbfac9e65e65cec99",
      "3fc4f8a209504177910e842b6631ce1f",
      "9f1701d18b3048dba70161118c757b0e",
      "e41ca7c477f248ec9998e528ea20224b",
      "a9d9c739b36a49c7a620469b09f0306a",
      "e39fa695379b459c8c8e5e0ba5f78960",
      "9421946589a94bb8ae15a7636370a0b4",
      "6b23f8faa2de4bcb8ddc7a9cc2e59c6a",
      "11e3bfc4a997489f8c2d138b70e8faca",
      "a9ea84ac8cf542879841987c7d022e7f",
      "0850ed43080449b19a40772bcf10772e",
      "037c8196833f447883c0b7a113f31915",
      "6f359ba47586419ca4ac07f7ded2a0c6",
      "285964bc96414ccfb09c5e4482a3eea6",
      "80526ebe885749d3acede3608b976df6",
      "1a4564330b6444f4aa2779c41f5e2f7a"
     ]
    },
    "id": "cMnWe439mc67",
    "outputId": "1563cff6-05a9-4d23-a39d-ccc72340e3fa"
   },
   "outputs": [
    {
     "name": "stdout",
     "output_type": "stream",
     "text": [
      "2022-10-07 09:06:24,635 - urllib3.connectionpool - DEBUG - Starting new HTTPS connection (1): huggingface.co:443\n",
      "2022-10-07 09:06:25,751 - urllib3.connectionpool - DEBUG - https://huggingface.co:443 \"HEAD /flax-community/gpt2-base-thai/resolve/main/vocab.json HTTP/1.1\" 200 0\n",
      "2022-10-07 09:06:25,987 - urllib3.connectionpool - DEBUG - Starting new HTTPS connection (1): huggingface.co:443\n",
      "2022-10-07 09:06:27,045 - urllib3.connectionpool - DEBUG - https://huggingface.co:443 \"HEAD /flax-community/gpt2-base-thai/resolve/main/config.json HTTP/1.1\" 200 0\n"
     ]
    }
   ],
   "source": [
    "flaxgpt2_model = FlaxGPT2FewShot('./flex-model2')"
   ]
  },
  {
   "cell_type": "code",
   "execution_count": 6,
   "metadata": {
    "colab": {
     "base_uri": "https://localhost:8080/",
     "height": 1000
    },
    "id": "erwZyHkxmlNT",
    "outputId": "d8fbb293-c0a9-4fb4-e311-7ddadd4c81c7"
   },
   "outputs": [
    {
     "name": "stdout",
     "output_type": "stream",
     "text": [
      "2022-10-07 09:06:35,689 - root - DEBUG - finding max_length...\n",
      "2022-10-07 09:06:35,741 - root - DEBUG - use train_data and test_data...\n"
     ]
    },
    {
     "name": "stderr",
     "output_type": "stream",
     "text": [
      "/opt/conda/lib/python3.8/site-packages/transformers/optimization.py:306: FutureWarning: This implementation of AdamW is deprecated and will be removed in a future version. Use the PyTorch implementation torch.optim.AdamW instead, or set `no_deprecation_warning=True` to disable this warning\n",
      "  warnings.warn(\n",
      "***** Running training *****\n",
      "  Num examples = 9\n",
      "  Num Epochs = 1\n",
      "  Instantaneous batch size per device = 8\n",
      "  Total train batch size (w. parallel, distributed & accumulation) = 64\n",
      "  Gradient Accumulation steps = 1\n",
      "  Total optimization steps = 1\n",
      "Automatic Weights & Biases logging enabled, to disable set os.environ[\"WANDB_DISABLED\"] = \"true\"\n"
     ]
    },
    {
     "name": "stdout",
     "output_type": "stream",
     "text": [
      "2022-10-07 09:06:36,236 - wandb.jupyter - ERROR - Failed to detect the name of this notebook, you can set it manually with the WANDB_NOTEBOOK_NAME environment variable to enable code saving.\n",
      "2022-10-07 09:06:37,899 - urllib3.connectionpool - DEBUG - Starting new HTTPS connection (1): api.wandb.ai:443\n",
      "2022-10-07 09:06:38,215 - urllib3.connectionpool - DEBUG - https://api.wandb.ai:443 \"POST /graphql HTTP/1.1\" 200 521\n",
      "2022-10-07 09:06:38,221 - urllib3.connectionpool - DEBUG - Starting new HTTPS connection (1): api.wandb.ai:443\n",
      "2022-10-07 09:06:38,535 - urllib3.connectionpool - DEBUG - https://api.wandb.ai:443 \"POST /graphql HTTP/1.1\" 200 343\n"
     ]
    },
    {
     "name": "stderr",
     "output_type": "stream",
     "text": [
      "\u001b[34m\u001b[1mwandb\u001b[0m: Currently logged in as: \u001b[33mwannaphong\u001b[0m. Use \u001b[1m`wandb login --relogin`\u001b[0m to force relogin\n"
     ]
    },
    {
     "name": "stdout",
     "output_type": "stream",
     "text": [
      "2022-10-07 09:06:38,572 - git.cmd - DEBUG - Popen(['git', 'cat-file', '--batch-check'], cwd=/workspace/pythainlp-work/padthai, universal_newlines=False, shell=None, istream=<valid stream>)\n"
     ]
    },
    {
     "data": {
      "text/html": [
       "wandb version 0.13.4 is available!  To upgrade, please run:\n",
       " $ pip install wandb --upgrade"
      ],
      "text/plain": [
       "<IPython.core.display.HTML object>"
      ]
     },
     "metadata": {},
     "output_type": "display_data"
    },
    {
     "data": {
      "text/html": [
       "Tracking run with wandb version 0.13.2"
      ],
      "text/plain": [
       "<IPython.core.display.HTML object>"
      ]
     },
     "metadata": {},
     "output_type": "display_data"
    },
    {
     "data": {
      "text/html": [
       "Run data is saved locally in <code>/workspace/pythainlp-work/padthai/notebooks/wandb/run-20221007_090638-3olqnj9p</code>"
      ],
      "text/plain": [
       "<IPython.core.display.HTML object>"
      ]
     },
     "metadata": {},
     "output_type": "display_data"
    },
    {
     "data": {
      "text/html": [
       "Syncing run <strong><a href=\"https://wandb.ai/wannaphong/huggingface/runs/3olqnj9p\" target=\"_blank\">./flex-model2</a></strong> to <a href=\"https://wandb.ai/wannaphong/huggingface\" target=\"_blank\">Weights & Biases</a> (<a href=\"https://wandb.me/run\" target=\"_blank\">docs</a>)<br/>"
      ],
      "text/plain": [
       "<IPython.core.display.HTML object>"
      ]
     },
     "metadata": {},
     "output_type": "display_data"
    },
    {
     "name": "stderr",
     "output_type": "stream",
     "text": [
      "/opt/conda/lib/python3.8/site-packages/torch/nn/parallel/_functions.py:68: UserWarning: Was asked to gather along dimension 0, but all input tensors were scalars; will instead unsqueeze and return a vector.\n",
      "  warnings.warn('Was asked to gather along dimension 0, but all '\n"
     ]
    },
    {
     "data": {
      "text/html": [
       "\n",
       "    <div>\n",
       "      \n",
       "      <progress value='1' max='1' style='width:300px; height:20px; vertical-align: middle;'></progress>\n",
       "      [1/1 00:07, Epoch 1/1]\n",
       "    </div>\n",
       "    <table border=\"1\" class=\"dataframe\">\n",
       "  <thead>\n",
       " <tr style=\"text-align: left;\">\n",
       "      <th>Epoch</th>\n",
       "      <th>Training Loss</th>\n",
       "      <th>Validation Loss</th>\n",
       "    </tr>\n",
       "  </thead>\n",
       "  <tbody>\n",
       "    <tr>\n",
       "      <td>1</td>\n",
       "      <td>10.088700</td>\n",
       "      <td>9.938056</td>\n",
       "    </tr>\n",
       "  </tbody>\n",
       "</table><p>"
      ],
      "text/plain": [
       "<IPython.core.display.HTML object>"
      ]
     },
     "metadata": {},
     "output_type": "display_data"
    },
    {
     "name": "stderr",
     "output_type": "stream",
     "text": [
      "***** Running Evaluation *****\n",
      "  Num examples = 7\n",
      "  Batch size = 64\n",
      "\n",
      "\n",
      "Training completed. Do not forget to share your model on huggingface.co/models =)\n",
      "\n",
      "\n",
      "***** Running Evaluation *****\n",
      "  Num examples = 7\n",
      "  Batch size = 64\n"
     ]
    },
    {
     "data": {
      "text/html": [
       "\n",
       "    <div>\n",
       "      \n",
       "      <progress value='1' max='1' style='width:300px; height:20px; vertical-align: middle;'></progress>\n",
       "      [1/1 : < :]\n",
       "    </div>\n",
       "    "
      ],
      "text/plain": [
       "<IPython.core.display.HTML object>"
      ]
     },
     "metadata": {},
     "output_type": "display_data"
    },
    {
     "name": "stderr",
     "output_type": "stream",
     "text": [
      "Saving model checkpoint to ./flex-model2\n",
      "Configuration saved in ./flex-model2/config.json\n",
      "Model weights saved in ./flex-model2/pytorch_model.bin\n"
     ]
    }
   ],
   "source": [
    "flaxgpt2_model.train(\n",
    "    train_data=data[:9],\n",
    "    test_data=data[9:],\n",
    "    logging_dir='./log_model_flex',\n",
    "    num_train_epochs=1, # change!!!\n",
    "    train_size=0.9,\n",
    "    batch_size=8,\n",
    "    save_every_epochs=False\n",
    ")"
   ]
  },
  {
   "cell_type": "code",
   "execution_count": 7,
   "metadata": {
    "colab": {
     "base_uri": "https://localhost:8080/"
    },
    "id": "_nCcVP1nm4wO",
    "outputId": "0bb41f04-06d2-4b90-ef3a-4c501bde33b2"
   },
   "outputs": [
    {
     "name": "stderr",
     "output_type": "stream",
     "text": [
      "The attention mask and the pad token id were not set. As a consequence, you may observe unexpected behavior. Please pass your input's `attention_mask` to obtain reliable results.\n",
      "Setting `pad_token_id` to `eos_token_id`:50256 for open-end generation.\n"
     ]
    },
    {
     "data": {
      "text/plain": [
       "['ความก้าวหน้าของมนุษย์ทั้งปวง เพราะยุคสมัยปัจจุบันนี้ทุกคนมีชีวิตของตนเอง เรียกว่า “อินเดีย” (อังกฤษ : Indians) เป็นต้นกำเนิดของความไม่แน่นอน ซึ่งไม่สามารถตอบสนองได้ เป็นผลมาจากการเปลี่ยนแปลงครั้งสำคัญ ๆ ใน',\n",
       " 'ความก้าวหน้าของมนุษย์และสิ่งแวดล้อม ซึ่งก็หมายความว่าความดีความชั่วมีความหมายสูงและจะทำให้คนมีความสุขกับการเรียนการสอนและมีความสุขกับโครงการดีๆมากมาย นั่นคือข้อความส่วนตัวที่ทุกคนต้องเคยส่งมาเพื่อสื่อความหมายที่ถ',\n",
       " 'ความก้าวหน้าของมนุษย์ แต่มันมีเหตุผลนะครับที่ทำให้มนุษย์ยังคงเป็นสิ่งต้องห้ามและไม่มีหลักการรับรองว่ามันจะเป็นสิ่งที่ถูกต้องหรือไม่ถ้าหากนักวิทยาศาสตร์รับรองว่า “มันจะเป็นสิ่งที่',\n",
       " 'ความก้าวหน้าของมนุษย์ เป็นผู้ใหญ่ที่มีบุคลิกที่ซื่อสัตย์ และมีทักษะในการแก้ไขปัญหาต่าง ๆ ส่งผลให้เป็นผู้รักความสงบและมีมารยาทในการตัดสินใจ เป็นแบบอย่างในการดำเนินชีวิต ด้วยคำพูด ร้อยกรองเรื่องความเป',\n",
       " 'ความก้าวหน้าของมนุษย์ และยังทำให้มนุษย์สามารถควบคุมได้ด้วยตนเอง\\nนอกจากจะเป็นอาชีพที่อยู่ในสายเลือดแล้ว หนุ่มสาวยุคใหม่เริ่มต้นสร้างครอบครัวกันเอง เพราะครอบครัวที่มีลูกสาวน้อยต้องทำตัวเหมือนเด็กสาวน้อย และม']"
      ]
     },
     "execution_count": 7,
     "metadata": {},
     "output_type": "execute_result"
    }
   ],
   "source": [
    "flaxgpt2_model.gen(\"ความก้าวหน้าของมนุษย์\",max_length=100)"
   ]
  },
  {
   "cell_type": "code",
   "execution_count": 8,
   "metadata": {
    "colab": {
     "base_uri": "https://localhost:8080/"
    },
    "id": "p-i8pcVInEZ1",
    "outputId": "ef1db20e-b2ea-4908-bd3b-c691450ef97d"
   },
   "outputs": [
    {
     "name": "stderr",
     "output_type": "stream",
     "text": [
      "The attention mask and the pad token id were not set. As a consequence, you may observe unexpected behavior. Please pass your input's `attention_mask` to obtain reliable results.\n",
      "Setting `pad_token_id` to `eos_token_id`:50256 for open-end generation.\n"
     ]
    },
    {
     "data": {
      "text/plain": [
       "['เทคโนโลยีการสื่อสารและภาพลักษณ์ของประเทศไทยด้วยอุปกรณ์ทางเทคนิค: การวิจัยทางเทคนิค การวิจัยทางเทคนิคการสื่อสารและความบันเทิง - บทความ - ธรรมะในชีวิตประจำวัน สำหรับคนในสังคม บทความ - ธรรมะในชีวิตประจำวัน สำหรับคนในสังคม\\nวิจัยในระดับมหาวิทยาลัยได้เก็บรวบรวมข้อมูลเกี่ยวกับการใช้อุปกรณ์ทางเทคนิคที่เหมาะสมและเหมาะสม สำหรับการสื่อสารในปัจจุบัน\\nวิจัยในระดั',\n",
       " 'เทคโนโลยีดิจิตอล” ที่ต้องเปิดให้เข้าถึงได้นี้คือ การนำเสนอเนื้อหาผ่านการวิเคราะห์ด้วยนวัตกรรมสมัยใหม่\\nสิ่งที่ได้จากการนำเสนอเนื้อหานั้นคือ เราจะสามารถนำเสนอเนื้อหาอย่างมีประสิทธิภาพมากขึ้น โดยทุกองค์กรจะมีการตัดสินใจเชิงนโยบายอย่างเป็นธรรม ทั้งด้านนโยบาย โครงสร้างพื้นฐาน ระบบการศึกษา รวมถึงเครือข่ายดิจิตอลที่สำคัญอย่างสม่ำเสมอ เพื่อนำไปสู่การพั',\n",
       " 'เทคโนโลยีสารสนเทศและการสื่อสาร ได้นำวิทยาการและเทคโนโลยีสารสนเทศมาใช้ในการปฏิบัติงาน เป็นการพัฒนาและเพิ่มประสิทธิภาพการทำงานของหน่วยงาน รวมทั้งการขับเคลื่อนงาน ขององค์กรมีข้อบังคับและกฎหมายกำหนดไว้ ดังนี้\\n1.1.4\\tโครงการการพัฒนาศักยภาพด้านความรู้ความสามารถเชิงวิชาการทางเทคโนโลยีสารสนเทศและการสื่อสารของบุคลากรสายสนับสนุน\\nเป็นโครงการที่ช่วยเสริมสร้างและทบทวนให้ความรู้ ความเข้าใจในเรื่องการใช้อุปกรณ์คอมพิวเตอร์',\n",
       " 'เทคโนโลยีและนวัตกรรมด้านงานวิจัยและการใช้งานในภาคอุตสาหกรรม\\n5. สรุปสาระการประชุมเชิงปฏิบัติการทางวิชาการในการประชุมสัมมนาสรุปการดำเนินงานตามแนวทางปฏิบัติการขับเคลื่อนนโยบายพัฒนาเศรษฐกิจและสังคมดิจิทัล ของสำนักงาน คปภ. (พื้นที่กำแพงเพชร)\\n5. สรุปสาระการประชุมเชิงปฏิบัติการเพื่อทำความเข้าใจแนวทางการดำเนินงานความร่วมมือประชาคมอาเซียน กับประเทศเพื่อนบ้าน (CLMV) จ',\n",
       " 'เทคโนโลยีอัจฉริยะ หรือ ICT (Intelligence and ICT for All) เป็นหน่วยเร่งปฏิบัติการวิจัย ซึ่งปัจจุบันคือ National Research Council (NRC) มีพันธกิจที่จะพัฒนาตัวแบบให้กับภาคการศึกษาของประเทศไทย ในการพัฒนาข้อมูลอัจฉริยะ หรือ อัจฉริยะที่สามารถนำไปใช้ประโยชน์ต่อภาคการอาชีพของประเทศอื่นได้\\nจัดทำโครงการที่มีประโยชน์ในเชิงพาณิชย์ ตั้งแต่ระดับปริญญาตรี ไปจนถึ']"
      ]
     },
     "execution_count": 8,
     "metadata": {},
     "output_type": "execute_result"
    }
   ],
   "source": [
    "flaxgpt2_model.gen(\"เทคโนโลยี\",max_length=160)"
   ]
  },
  {
   "cell_type": "code",
   "execution_count": 9,
   "metadata": {
    "colab": {
     "base_uri": "https://localhost:8080/"
    },
    "id": "C9ioHh9PI4xC",
    "outputId": "55e09c32-0d18-4998-a201-5b8d330b3d70"
   },
   "outputs": [
    {
     "name": "stderr",
     "output_type": "stream",
     "text": [
      "The attention mask and the pad token id were not set. As a consequence, you may observe unexpected behavior. Please pass your input's `attention_mask` to obtain reliable results.\n",
      "Setting `pad_token_id` to `eos_token_id`:50256 for open-end generation.\n"
     ]
    },
    {
     "data": {
      "text/plain": [
       "['ความรัก, ช่วยให้ความจำ, ทุกชนิดของวัสดุที่มีความซับซ้อนในการกันน้ำมันป้องกันหิน\\nเครื่องมือแบบพกพาร่วมสมัยกับหน่วยย่อยของการออกแบบใหม่ในปี 1892 ในชื่อ ‘Alexander: The New Car’ นักปรัชญา, สังคมศาสตร์, และบรรดาผู้เขียนของความคิดนี้พิมพ์เป็นที่นิยมมากในพื้นที่ภูเขาและภูเขาในแคลิฟอร์เนีย\\nกีตาร์มันเป็นรูปแบบที่ถูกต้',\n",
       " 'ความรักและอิสระได้ที่นี่ เราพักที่นั่นหนึ่งคืนในเดือนมิถุนายน และมีความสุขมากที่ได้พัก 3 คืนบนรถตู้ที่เก่าแก่ของประวัติศาสตร์ และราคาที่ดี มีร้านกาแฟเล็ก ๆ และร้านอาหารที่น่ารัก เดอะที่ยอดเยี่ยมที่สุด ห้องพักมีขนาดกว้างขวาง และสะอาดมาก และสะดวกสบาย พนักงานเอาใจใส่ และมีความรู้ แน่นอนเราจะแนะนำให้มาเที่ยวจุดอื่นเพิ่มเติม\\nฉันไม่เคยผิดหว',\n",
       " 'ความรัก ที่จะมัดใจอีกฝ่ายให้เขารักกันทุกวัน\\nเมื่อความรักครั้งนี้ถาโถมเข้ามามากจนแทบส่งผลร้ายไปถึงคนรัก มีปัญหาขัดแย้งกันบ้างเป็นบางอย่าง หรือ มีปัญหาอื่นๆ ตามมาให้พูดกันไปมา เพราะทุกคนรู้อยู่แก่ใจถึงความรัก ว่าเขาเป็นอย่างไร และถ้าพบก็จะสามารถจูบ และรักเขาไปด้วยกัน ดีขึ้นทั้งสองคน\\nนั่นเป็นท',\n",
       " 'ความรัก” (Sweet Love) และนี่คือ “ว่าที่นายวันยังสาว” เวอร์ชั่นซีรีย์ในวัย 40 ที่จะพาคุณไปสืบรักแท้ของนางเอกสาว “ออม – ชัยมงคล พันธุ์เพ็ง” และแฟนคลับแห่มารอคิวรอรับเป็นร้อยคนแน่ๆ\\nล่าสุดได้เจอสาว ออม “ออม” อย่างใกล้ชิด พร้อมข้อความบอกรักป้ายแดงว่า “รัก…ผู้หญิงขอรัก…จุ๊บ” (Love Story) ที่',\n",
       " 'ความรัก, ชื่นชม, หวานซึ้ง, อ่อนโยน, โรแมนติค, สีแดง, สีแดง, อังกฤษ\\nหีน้องแน๊ต สาวสวยสุดซี้หุ่นแบบนี้น่ารักสุดๆ เย็ดแตกในกับน้องสาว หีสาวสวยเนียนกริ๊บ เย็ดแตกในเต็มๆฟินเลยนะ\\nเด็ดหีอีสานพิศวาสแอบเอากับแฟน ล่อซะหีขาวๆบานๆ น่าเอาน้ำแตกแบบนี้แหละเย็ดสดอย่างเสียวๆเลย เด็ดหีอีนี่แหละ\\nน้องแนนนี่ ร่านหีจ']"
      ]
     },
     "execution_count": 9,
     "metadata": {},
     "output_type": "execute_result"
    }
   ],
   "source": [
    "flaxgpt2_model.gen(\"ความรัก\",max_length=160)"
   ]
  },
  {
   "cell_type": "code",
   "execution_count": 10,
   "metadata": {
    "colab": {
     "base_uri": "https://localhost:8080/"
    },
    "id": "y2RkMYdNJImg",
    "outputId": "80bb2a30-b530-4077-9288-96dcd138f53e"
   },
   "outputs": [
    {
     "name": "stderr",
     "output_type": "stream",
     "text": [
      "The attention mask and the pad token id were not set. As a consequence, you may observe unexpected behavior. Please pass your input's `attention_mask` to obtain reliable results.\n",
      "Setting `pad_token_id` to `eos_token_id`:50256 for open-end generation.\n"
     ]
    },
    {
     "data": {
      "text/plain": [
       "['กาลอวกาศสุดสะพรึงนี้\\n“เมื่อเครื่องบินจำนวน 10 เครื่องตกลงจากบนยอดดอยมากขึ้นแล้ว ก็จะทำให้มัน “ดูคล้ายงูเห่า”” ซึ่งถือเป็นอันตรายมากสำหรับชาวพื้นเมืองในลาวตอนใต้ และทำให้พวกเขาต้องกลายเป็นคนไร้บ้',\n",
       " 'กาลอวกาศก็มีอิทธิพลมากพอสมควรในการทำให้เกิดความต้องการและเป้าหมายทางการแพทย์เช่น การทำให้คนไข้สามารถรับยาได้เพื่อการดูดซึมที่ดีขึ้น การรักษาโรคเอดส์จึงเป็นมาตรการที่สามารถทำได้ง่ายและรวดเร็ว\\nแต่ในทางปฏิบัติ',\n",
       " 'กาลอวกาศได้สำเร็จ\\nนอกจากนี้มันยังได้รับรางวัลจากแคมเปญใหม่ที่จัดทำขึ้นด้วยวัสดุที่ดียิ่งขึ้นและได้รับการคัดเลือกให้เป็นหนึ่งในนักสร้างอนุภาคที่ดีที่สุดในโลก โดยมีรายละเอียดดังนี้\\nทีมงานได้ถ',\n",
       " 'กาลอวกาศ ที่สร้างขึ้นในช่วงปลายศตวรรษที่ 19 เป็นต้นมา โดยใช้งบประมาณในการก่อสร้างกว่า 1,500 ล้านบาท\\nโดยเครื่องบินที่ใช้สำหรับการเดินทางของเราได้ผ่านการพัฒนาและปรับปรุงหลายอย่าง เช่น มีการปรับปรุงรายละเอียดต่างๆ อีกมาก ทั้งโครงสร',\n",
       " 'กาลอวกาศ และใช้เวลาเพียงครึ่งชั่วโมงในการถ่ายภาพของเขา โดยเขาได้ลั่นวาจาเอาไว้ว่า เขาจะไปดูหนัง และฟังเพลงในโรงภาพยนตร์ เพื่อหาประสบการณ์ใหม่ๆในการเรียนรู้สิ่งใหม่ๆที่น่าตื่นเต้น\\nเขาไม่เคยคิดว่าการตัดสินใจเรื่องนี้จะ']"
      ]
     },
     "execution_count": 10,
     "metadata": {},
     "output_type": "execute_result"
    }
   ],
   "source": [
    "flaxgpt2_model.gen(\"กาลอวกาศ\",max_length=100)"
   ]
  },
  {
   "cell_type": "code",
   "execution_count": null,
   "metadata": {
    "id": "CARn0BNuJSQd"
   },
   "outputs": [],
   "source": []
  }
 ],
 "metadata": {
  "accelerator": "GPU",
  "colab": {
   "collapsed_sections": [],
   "name": "text-generation.ipynb",
   "provenance": []
  },
  "kernelspec": {
   "display_name": "Python 3 (ipykernel)",
   "language": "python",
   "name": "python3"
  },
  "language_info": {
   "codemirror_mode": {
    "name": "ipython",
    "version": 3
   },
   "file_extension": ".py",
   "mimetype": "text/x-python",
   "name": "python",
   "nbconvert_exporter": "python",
   "pygments_lexer": "ipython3",
   "version": "3.8.12"
  },
  "widgets": {
   "application/vnd.jupyter.widget-state+json": {
    "037c8196833f447883c0b7a113f31915": {
     "model_module": "@jupyter-widgets/controls",
     "model_name": "HTMLModel",
     "state": {
      "_dom_classes": [],
      "_model_module": "@jupyter-widgets/controls",
      "_model_module_version": "1.5.0",
      "_model_name": "HTMLModel",
      "_view_count": null,
      "_view_module": "@jupyter-widgets/controls",
      "_view_module_version": "1.5.0",
      "_view_name": "HTMLView",
      "description": "",
      "description_tooltip": null,
      "layout": "IPY_MODEL_1a4564330b6444f4aa2779c41f5e2f7a",
      "placeholder": "​",
      "style": "IPY_MODEL_80526ebe885749d3acede3608b976df6",
      "value": " 510M/510M [00:10&lt;00:00, 49.5MB/s]"
     }
    },
    "0850ed43080449b19a40772bcf10772e": {
     "model_module": "@jupyter-widgets/controls",
     "model_name": "FloatProgressModel",
     "state": {
      "_dom_classes": [],
      "_model_module": "@jupyter-widgets/controls",
      "_model_module_version": "1.5.0",
      "_model_name": "FloatProgressModel",
      "_view_count": null,
      "_view_module": "@jupyter-widgets/controls",
      "_view_module_version": "1.5.0",
      "_view_name": "ProgressView",
      "bar_style": "success",
      "description": "Downloading: 100%",
      "description_tooltip": null,
      "layout": "IPY_MODEL_285964bc96414ccfb09c5e4482a3eea6",
      "max": 510401385,
      "min": 0,
      "orientation": "horizontal",
      "style": "IPY_MODEL_6f359ba47586419ca4ac07f7ded2a0c6",
      "value": 510401385
     }
    },
    "0efbf24b692044b7967004d6c42be007": {
     "model_module": "@jupyter-widgets/controls",
     "model_name": "HBoxModel",
     "state": {
      "_dom_classes": [],
      "_model_module": "@jupyter-widgets/controls",
      "_model_module_version": "1.5.0",
      "_model_name": "HBoxModel",
      "_view_count": null,
      "_view_module": "@jupyter-widgets/controls",
      "_view_module_version": "1.5.0",
      "_view_name": "HBoxView",
      "box_style": "",
      "children": [
       "IPY_MODEL_16a950fb1874440eb3d46d0c2985b35a",
       "IPY_MODEL_425c5f8c85a24472874665ddf2d2e6b3"
      ],
      "layout": "IPY_MODEL_d0b013e218e843bfb9562934da8b8ed1"
     }
    },
    "11e3bfc4a997489f8c2d138b70e8faca": {
     "model_module": "@jupyter-widgets/controls",
     "model_name": "HBoxModel",
     "state": {
      "_dom_classes": [],
      "_model_module": "@jupyter-widgets/controls",
      "_model_module_version": "1.5.0",
      "_model_name": "HBoxModel",
      "_view_count": null,
      "_view_module": "@jupyter-widgets/controls",
      "_view_module_version": "1.5.0",
      "_view_name": "HBoxView",
      "box_style": "",
      "children": [
       "IPY_MODEL_0850ed43080449b19a40772bcf10772e",
       "IPY_MODEL_037c8196833f447883c0b7a113f31915"
      ],
      "layout": "IPY_MODEL_a9ea84ac8cf542879841987c7d022e7f"
     }
    },
    "140a41c38c0e432d8dadb6559d83b4c0": {
     "model_module": "@jupyter-widgets/controls",
     "model_name": "DescriptionStyleModel",
     "state": {
      "_model_module": "@jupyter-widgets/controls",
      "_model_module_version": "1.5.0",
      "_model_name": "DescriptionStyleModel",
      "_view_count": null,
      "_view_module": "@jupyter-widgets/base",
      "_view_module_version": "1.2.0",
      "_view_name": "StyleView",
      "description_width": ""
     }
    },
    "16a950fb1874440eb3d46d0c2985b35a": {
     "model_module": "@jupyter-widgets/controls",
     "model_name": "FloatProgressModel",
     "state": {
      "_dom_classes": [],
      "_model_module": "@jupyter-widgets/controls",
      "_model_module_version": "1.5.0",
      "_model_name": "FloatProgressModel",
      "_view_count": null,
      "_view_module": "@jupyter-widgets/controls",
      "_view_module_version": "1.5.0",
      "_view_name": "ProgressView",
      "bar_style": "success",
      "description": "Downloading: 100%",
      "description_tooltip": null,
      "layout": "IPY_MODEL_8cbcea06860f427399cb59da28335982",
      "max": 24,
      "min": 0,
      "orientation": "horizontal",
      "style": "IPY_MODEL_c89aa6430e694ff0b1a343c3bebc6174",
      "value": 24
     }
    },
    "179fdd16f53c4b8fb89ffe39df2f20e1": {
     "model_module": "@jupyter-widgets/controls",
     "model_name": "DescriptionStyleModel",
     "state": {
      "_model_module": "@jupyter-widgets/controls",
      "_model_module_version": "1.5.0",
      "_model_name": "DescriptionStyleModel",
      "_view_count": null,
      "_view_module": "@jupyter-widgets/base",
      "_view_module_version": "1.2.0",
      "_view_name": "StyleView",
      "description_width": ""
     }
    },
    "1a4564330b6444f4aa2779c41f5e2f7a": {
     "model_module": "@jupyter-widgets/base",
     "model_name": "LayoutModel",
     "state": {
      "_model_module": "@jupyter-widgets/base",
      "_model_module_version": "1.2.0",
      "_model_name": "LayoutModel",
      "_view_count": null,
      "_view_module": "@jupyter-widgets/base",
      "_view_module_version": "1.2.0",
      "_view_name": "LayoutView",
      "align_content": null,
      "align_items": null,
      "align_self": null,
      "border": null,
      "bottom": null,
      "display": null,
      "flex": null,
      "flex_flow": null,
      "grid_area": null,
      "grid_auto_columns": null,
      "grid_auto_flow": null,
      "grid_auto_rows": null,
      "grid_column": null,
      "grid_gap": null,
      "grid_row": null,
      "grid_template_areas": null,
      "grid_template_columns": null,
      "grid_template_rows": null,
      "height": null,
      "justify_content": null,
      "justify_items": null,
      "left": null,
      "margin": null,
      "max_height": null,
      "max_width": null,
      "min_height": null,
      "min_width": null,
      "object_fit": null,
      "object_position": null,
      "order": null,
      "overflow": null,
      "overflow_x": null,
      "overflow_y": null,
      "padding": null,
      "right": null,
      "top": null,
      "visibility": null,
      "width": null
     }
    },
    "1e2fd159440d4cc89a32caf0001a4085": {
     "model_module": "@jupyter-widgets/controls",
     "model_name": "HBoxModel",
     "state": {
      "_dom_classes": [],
      "_model_module": "@jupyter-widgets/controls",
      "_model_module_version": "1.5.0",
      "_model_name": "HBoxModel",
      "_view_count": null,
      "_view_module": "@jupyter-widgets/controls",
      "_view_module_version": "1.5.0",
      "_view_name": "HBoxView",
      "box_style": "",
      "children": [
       "IPY_MODEL_8eca1f0e454f43b4918f430533192ea5",
       "IPY_MODEL_3cdad6ad3f2940bbb26342a79a378bfc"
      ],
      "layout": "IPY_MODEL_80ba42dd2cd04a0680a49c13b7fbaa3a"
     }
    },
    "21209726ea624b1e99c6d4f03c8f649f": {
     "model_module": "@jupyter-widgets/base",
     "model_name": "LayoutModel",
     "state": {
      "_model_module": "@jupyter-widgets/base",
      "_model_module_version": "1.2.0",
      "_model_name": "LayoutModel",
      "_view_count": null,
      "_view_module": "@jupyter-widgets/base",
      "_view_module_version": "1.2.0",
      "_view_name": "LayoutView",
      "align_content": null,
      "align_items": null,
      "align_self": null,
      "border": null,
      "bottom": null,
      "display": null,
      "flex": null,
      "flex_flow": null,
      "grid_area": null,
      "grid_auto_columns": null,
      "grid_auto_flow": null,
      "grid_auto_rows": null,
      "grid_column": null,
      "grid_gap": null,
      "grid_row": null,
      "grid_template_areas": null,
      "grid_template_columns": null,
      "grid_template_rows": null,
      "height": null,
      "justify_content": null,
      "justify_items": null,
      "left": null,
      "margin": null,
      "max_height": null,
      "max_width": null,
      "min_height": null,
      "min_width": null,
      "object_fit": null,
      "object_position": null,
      "order": null,
      "overflow": null,
      "overflow_x": null,
      "overflow_y": null,
      "padding": null,
      "right": null,
      "top": null,
      "visibility": null,
      "width": null
     }
    },
    "252d90aff51e4b6986772000e8bebf4e": {
     "model_module": "@jupyter-widgets/controls",
     "model_name": "HBoxModel",
     "state": {
      "_dom_classes": [],
      "_model_module": "@jupyter-widgets/controls",
      "_model_module_version": "1.5.0",
      "_model_name": "HBoxModel",
      "_view_count": null,
      "_view_module": "@jupyter-widgets/controls",
      "_view_module_version": "1.5.0",
      "_view_name": "HBoxView",
      "box_style": "",
      "children": [
       "IPY_MODEL_6a9d458958c14c718da889f1a10ee964",
       "IPY_MODEL_c5374c4d9fd3420ead5b7868a21a4b35"
      ],
      "layout": "IPY_MODEL_21209726ea624b1e99c6d4f03c8f649f"
     }
    },
    "285964bc96414ccfb09c5e4482a3eea6": {
     "model_module": "@jupyter-widgets/base",
     "model_name": "LayoutModel",
     "state": {
      "_model_module": "@jupyter-widgets/base",
      "_model_module_version": "1.2.0",
      "_model_name": "LayoutModel",
      "_view_count": null,
      "_view_module": "@jupyter-widgets/base",
      "_view_module_version": "1.2.0",
      "_view_name": "LayoutView",
      "align_content": null,
      "align_items": null,
      "align_self": null,
      "border": null,
      "bottom": null,
      "display": null,
      "flex": null,
      "flex_flow": null,
      "grid_area": null,
      "grid_auto_columns": null,
      "grid_auto_flow": null,
      "grid_auto_rows": null,
      "grid_column": null,
      "grid_gap": null,
      "grid_row": null,
      "grid_template_areas": null,
      "grid_template_columns": null,
      "grid_template_rows": null,
      "height": null,
      "justify_content": null,
      "justify_items": null,
      "left": null,
      "margin": null,
      "max_height": null,
      "max_width": null,
      "min_height": null,
      "min_width": null,
      "object_fit": null,
      "object_position": null,
      "order": null,
      "overflow": null,
      "overflow_x": null,
      "overflow_y": null,
      "padding": null,
      "right": null,
      "top": null,
      "visibility": null,
      "width": null
     }
    },
    "2f77d6fe7c814fad86682611162e4eb3": {
     "model_module": "@jupyter-widgets/base",
     "model_name": "LayoutModel",
     "state": {
      "_model_module": "@jupyter-widgets/base",
      "_model_module_version": "1.2.0",
      "_model_name": "LayoutModel",
      "_view_count": null,
      "_view_module": "@jupyter-widgets/base",
      "_view_module_version": "1.2.0",
      "_view_name": "LayoutView",
      "align_content": null,
      "align_items": null,
      "align_self": null,
      "border": null,
      "bottom": null,
      "display": null,
      "flex": null,
      "flex_flow": null,
      "grid_area": null,
      "grid_auto_columns": null,
      "grid_auto_flow": null,
      "grid_auto_rows": null,
      "grid_column": null,
      "grid_gap": null,
      "grid_row": null,
      "grid_template_areas": null,
      "grid_template_columns": null,
      "grid_template_rows": null,
      "height": null,
      "justify_content": null,
      "justify_items": null,
      "left": null,
      "margin": null,
      "max_height": null,
      "max_width": null,
      "min_height": null,
      "min_width": null,
      "object_fit": null,
      "object_position": null,
      "order": null,
      "overflow": null,
      "overflow_x": null,
      "overflow_y": null,
      "padding": null,
      "right": null,
      "top": null,
      "visibility": null,
      "width": null
     }
    },
    "35ba84b799744a7b9055b2de9fb1a950": {
     "model_module": "@jupyter-widgets/controls",
     "model_name": "HBoxModel",
     "state": {
      "_dom_classes": [],
      "_model_module": "@jupyter-widgets/controls",
      "_model_module_version": "1.5.0",
      "_model_name": "HBoxModel",
      "_view_count": null,
      "_view_module": "@jupyter-widgets/controls",
      "_view_module_version": "1.5.0",
      "_view_name": "HBoxView",
      "box_style": "",
      "children": [
       "IPY_MODEL_8fd5483c619e460a9c0a0301d60dffa3",
       "IPY_MODEL_fa761a44898b4fcfadfa4911caa38b62"
      ],
      "layout": "IPY_MODEL_439961b72b3943cc8367584326a72a68"
     }
    },
    "3cdad6ad3f2940bbb26342a79a378bfc": {
     "model_module": "@jupyter-widgets/controls",
     "model_name": "HTMLModel",
     "state": {
      "_dom_classes": [],
      "_model_module": "@jupyter-widgets/controls",
      "_model_module_version": "1.5.0",
      "_model_name": "HTMLModel",
      "_view_count": null,
      "_view_module": "@jupyter-widgets/controls",
      "_view_module_version": "1.5.0",
      "_view_name": "HTMLView",
      "description": "",
      "description_tooltip": null,
      "layout": "IPY_MODEL_c1b6338f27e749afa91f66c52fcb250d",
      "placeholder": "​",
      "style": "IPY_MODEL_140a41c38c0e432d8dadb6559d83b4c0",
      "value": " 2.25M/2.25M [00:00&lt;00:00, 6.81MB/s]"
     }
    },
    "3e4befb7da61437db82a7f2c020449c6": {
     "model_module": "@jupyter-widgets/base",
     "model_name": "LayoutModel",
     "state": {
      "_model_module": "@jupyter-widgets/base",
      "_model_module_version": "1.2.0",
      "_model_name": "LayoutModel",
      "_view_count": null,
      "_view_module": "@jupyter-widgets/base",
      "_view_module_version": "1.2.0",
      "_view_name": "LayoutView",
      "align_content": null,
      "align_items": null,
      "align_self": null,
      "border": null,
      "bottom": null,
      "display": null,
      "flex": null,
      "flex_flow": null,
      "grid_area": null,
      "grid_auto_columns": null,
      "grid_auto_flow": null,
      "grid_auto_rows": null,
      "grid_column": null,
      "grid_gap": null,
      "grid_row": null,
      "grid_template_areas": null,
      "grid_template_columns": null,
      "grid_template_rows": null,
      "height": null,
      "justify_content": null,
      "justify_items": null,
      "left": null,
      "margin": null,
      "max_height": null,
      "max_width": null,
      "min_height": null,
      "min_width": null,
      "object_fit": null,
      "object_position": null,
      "order": null,
      "overflow": null,
      "overflow_x": null,
      "overflow_y": null,
      "padding": null,
      "right": null,
      "top": null,
      "visibility": null,
      "width": null
     }
    },
    "3fc4f8a209504177910e842b6631ce1f": {
     "model_module": "@jupyter-widgets/base",
     "model_name": "LayoutModel",
     "state": {
      "_model_module": "@jupyter-widgets/base",
      "_model_module_version": "1.2.0",
      "_model_name": "LayoutModel",
      "_view_count": null,
      "_view_module": "@jupyter-widgets/base",
      "_view_module_version": "1.2.0",
      "_view_name": "LayoutView",
      "align_content": null,
      "align_items": null,
      "align_self": null,
      "border": null,
      "bottom": null,
      "display": null,
      "flex": null,
      "flex_flow": null,
      "grid_area": null,
      "grid_auto_columns": null,
      "grid_auto_flow": null,
      "grid_auto_rows": null,
      "grid_column": null,
      "grid_gap": null,
      "grid_row": null,
      "grid_template_areas": null,
      "grid_template_columns": null,
      "grid_template_rows": null,
      "height": null,
      "justify_content": null,
      "justify_items": null,
      "left": null,
      "margin": null,
      "max_height": null,
      "max_width": null,
      "min_height": null,
      "min_width": null,
      "object_fit": null,
      "object_position": null,
      "order": null,
      "overflow": null,
      "overflow_x": null,
      "overflow_y": null,
      "padding": null,
      "right": null,
      "top": null,
      "visibility": null,
      "width": null
     }
    },
    "425c5f8c85a24472874665ddf2d2e6b3": {
     "model_module": "@jupyter-widgets/controls",
     "model_name": "HTMLModel",
     "state": {
      "_dom_classes": [],
      "_model_module": "@jupyter-widgets/controls",
      "_model_module_version": "1.5.0",
      "_model_name": "HTMLModel",
      "_view_count": null,
      "_view_module": "@jupyter-widgets/controls",
      "_view_module_version": "1.5.0",
      "_view_name": "HTMLView",
      "description": "",
      "description_tooltip": null,
      "layout": "IPY_MODEL_edd0fe40238844b89c97ec09bc6cacf5",
      "placeholder": "​",
      "style": "IPY_MODEL_a7ca4990b44c4c4baea9c38d1a91671b",
      "value": " 24.0/24.0 [00:01&lt;00:00, 16.3B/s]"
     }
    },
    "439961b72b3943cc8367584326a72a68": {
     "model_module": "@jupyter-widgets/base",
     "model_name": "LayoutModel",
     "state": {
      "_model_module": "@jupyter-widgets/base",
      "_model_module_version": "1.2.0",
      "_model_name": "LayoutModel",
      "_view_count": null,
      "_view_module": "@jupyter-widgets/base",
      "_view_module_version": "1.2.0",
      "_view_name": "LayoutView",
      "align_content": null,
      "align_items": null,
      "align_self": null,
      "border": null,
      "bottom": null,
      "display": null,
      "flex": null,
      "flex_flow": null,
      "grid_area": null,
      "grid_auto_columns": null,
      "grid_auto_flow": null,
      "grid_auto_rows": null,
      "grid_column": null,
      "grid_gap": null,
      "grid_row": null,
      "grid_template_areas": null,
      "grid_template_columns": null,
      "grid_template_rows": null,
      "height": null,
      "justify_content": null,
      "justify_items": null,
      "left": null,
      "margin": null,
      "max_height": null,
      "max_width": null,
      "min_height": null,
      "min_width": null,
      "object_fit": null,
      "object_position": null,
      "order": null,
      "overflow": null,
      "overflow_x": null,
      "overflow_y": null,
      "padding": null,
      "right": null,
      "top": null,
      "visibility": null,
      "width": null
     }
    },
    "4b6c8c0aee2744e5b7d8c5f437b5e14b": {
     "model_module": "@jupyter-widgets/controls",
     "model_name": "FloatProgressModel",
     "state": {
      "_dom_classes": [],
      "_model_module": "@jupyter-widgets/controls",
      "_model_module_version": "1.5.0",
      "_model_name": "FloatProgressModel",
      "_view_count": null,
      "_view_module": "@jupyter-widgets/controls",
      "_view_module_version": "1.5.0",
      "_view_name": "ProgressView",
      "bar_style": "success",
      "description": "Downloading: 100%",
      "description_tooltip": null,
      "layout": "IPY_MODEL_2f77d6fe7c814fad86682611162e4eb3",
      "max": 1243931,
      "min": 0,
      "orientation": "horizontal",
      "style": "IPY_MODEL_5e42e8e940a34909a683887059ded458",
      "value": 1243931
     }
    },
    "56df4e17f9164aec9b4e74d87e733f22": {
     "model_module": "@jupyter-widgets/controls",
     "model_name": "HTMLModel",
     "state": {
      "_dom_classes": [],
      "_model_module": "@jupyter-widgets/controls",
      "_model_module_version": "1.5.0",
      "_model_name": "HTMLModel",
      "_view_count": null,
      "_view_module": "@jupyter-widgets/controls",
      "_view_module_version": "1.5.0",
      "_view_name": "HTMLView",
      "description": "",
      "description_tooltip": null,
      "layout": "IPY_MODEL_7c841a76e55345c485a91669afaae882",
      "placeholder": "​",
      "style": "IPY_MODEL_edda847533c047f6bf17d1bf743945c7",
      "value": " 90.0/90.0 [00:00&lt;00:00, 110B/s]"
     }
    },
    "576bffe742954893a2dc96f2e5037ad7": {
     "model_module": "@jupyter-widgets/base",
     "model_name": "LayoutModel",
     "state": {
      "_model_module": "@jupyter-widgets/base",
      "_model_module_version": "1.2.0",
      "_model_name": "LayoutModel",
      "_view_count": null,
      "_view_module": "@jupyter-widgets/base",
      "_view_module_version": "1.2.0",
      "_view_name": "LayoutView",
      "align_content": null,
      "align_items": null,
      "align_self": null,
      "border": null,
      "bottom": null,
      "display": null,
      "flex": null,
      "flex_flow": null,
      "grid_area": null,
      "grid_auto_columns": null,
      "grid_auto_flow": null,
      "grid_auto_rows": null,
      "grid_column": null,
      "grid_gap": null,
      "grid_row": null,
      "grid_template_areas": null,
      "grid_template_columns": null,
      "grid_template_rows": null,
      "height": null,
      "justify_content": null,
      "justify_items": null,
      "left": null,
      "margin": null,
      "max_height": null,
      "max_width": null,
      "min_height": null,
      "min_width": null,
      "object_fit": null,
      "object_position": null,
      "order": null,
      "overflow": null,
      "overflow_x": null,
      "overflow_y": null,
      "padding": null,
      "right": null,
      "top": null,
      "visibility": null,
      "width": null
     }
    },
    "5d7e40206ecb4e9b8739fe9adbd82d6c": {
     "model_module": "@jupyter-widgets/controls",
     "model_name": "FloatProgressModel",
     "state": {
      "_dom_classes": [],
      "_model_module": "@jupyter-widgets/controls",
      "_model_module_version": "1.5.0",
      "_model_name": "FloatProgressModel",
      "_view_count": null,
      "_view_module": "@jupyter-widgets/controls",
      "_view_module_version": "1.5.0",
      "_view_name": "ProgressView",
      "bar_style": "success",
      "description": "Downloading: 100%",
      "description_tooltip": null,
      "layout": "IPY_MODEL_fa952a25051841499d6a30fc6aa5dfd8",
      "max": 90,
      "min": 0,
      "orientation": "horizontal",
      "style": "IPY_MODEL_8d43518ea1cf4433ba1a1b4a36db2cc6",
      "value": 90
     }
    },
    "5e42e8e940a34909a683887059ded458": {
     "model_module": "@jupyter-widgets/controls",
     "model_name": "ProgressStyleModel",
     "state": {
      "_model_module": "@jupyter-widgets/controls",
      "_model_module_version": "1.5.0",
      "_model_name": "ProgressStyleModel",
      "_view_count": null,
      "_view_module": "@jupyter-widgets/base",
      "_view_module_version": "1.2.0",
      "_view_name": "StyleView",
      "bar_color": null,
      "description_width": "initial"
     }
    },
    "603aafcdf4654f1185096efb6093e6d9": {
     "model_module": "@jupyter-widgets/controls",
     "model_name": "ProgressStyleModel",
     "state": {
      "_model_module": "@jupyter-widgets/controls",
      "_model_module_version": "1.5.0",
      "_model_name": "ProgressStyleModel",
      "_view_count": null,
      "_view_module": "@jupyter-widgets/base",
      "_view_module_version": "1.2.0",
      "_view_name": "StyleView",
      "bar_color": null,
      "description_width": "initial"
     }
    },
    "663f53ae36e846289f5fc47646c2aa1f": {
     "model_module": "@jupyter-widgets/controls",
     "model_name": "ProgressStyleModel",
     "state": {
      "_model_module": "@jupyter-widgets/controls",
      "_model_module_version": "1.5.0",
      "_model_name": "ProgressStyleModel",
      "_view_count": null,
      "_view_module": "@jupyter-widgets/base",
      "_view_module_version": "1.2.0",
      "_view_name": "StyleView",
      "bar_color": null,
      "description_width": "initial"
     }
    },
    "6a9d458958c14c718da889f1a10ee964": {
     "model_module": "@jupyter-widgets/controls",
     "model_name": "FloatProgressModel",
     "state": {
      "_dom_classes": [],
      "_model_module": "@jupyter-widgets/controls",
      "_model_module_version": "1.5.0",
      "_model_name": "FloatProgressModel",
      "_view_count": null,
      "_view_module": "@jupyter-widgets/controls",
      "_view_module_version": "1.5.0",
      "_view_name": "ProgressView",
      "bar_style": "success",
      "description": "Downloading: 100%",
      "description_tooltip": null,
      "layout": "IPY_MODEL_3e4befb7da61437db82a7f2c020449c6",
      "max": 208,
      "min": 0,
      "orientation": "horizontal",
      "style": "IPY_MODEL_76fa5302291945c4a48f413b2cd30f94",
      "value": 208
     }
    },
    "6b23f8faa2de4bcb8ddc7a9cc2e59c6a": {
     "model_module": "@jupyter-widgets/base",
     "model_name": "LayoutModel",
     "state": {
      "_model_module": "@jupyter-widgets/base",
      "_model_module_version": "1.2.0",
      "_model_name": "LayoutModel",
      "_view_count": null,
      "_view_module": "@jupyter-widgets/base",
      "_view_module_version": "1.2.0",
      "_view_name": "LayoutView",
      "align_content": null,
      "align_items": null,
      "align_self": null,
      "border": null,
      "bottom": null,
      "display": null,
      "flex": null,
      "flex_flow": null,
      "grid_area": null,
      "grid_auto_columns": null,
      "grid_auto_flow": null,
      "grid_auto_rows": null,
      "grid_column": null,
      "grid_gap": null,
      "grid_row": null,
      "grid_template_areas": null,
      "grid_template_columns": null,
      "grid_template_rows": null,
      "height": null,
      "justify_content": null,
      "justify_items": null,
      "left": null,
      "margin": null,
      "max_height": null,
      "max_width": null,
      "min_height": null,
      "min_width": null,
      "object_fit": null,
      "object_position": null,
      "order": null,
      "overflow": null,
      "overflow_x": null,
      "overflow_y": null,
      "padding": null,
      "right": null,
      "top": null,
      "visibility": null,
      "width": null
     }
    },
    "6f359ba47586419ca4ac07f7ded2a0c6": {
     "model_module": "@jupyter-widgets/controls",
     "model_name": "ProgressStyleModel",
     "state": {
      "_model_module": "@jupyter-widgets/controls",
      "_model_module_version": "1.5.0",
      "_model_name": "ProgressStyleModel",
      "_view_count": null,
      "_view_module": "@jupyter-widgets/base",
      "_view_module_version": "1.2.0",
      "_view_name": "StyleView",
      "bar_color": null,
      "description_width": "initial"
     }
    },
    "743feb2a7643450b98d79379166108f1": {
     "model_module": "@jupyter-widgets/controls",
     "model_name": "HBoxModel",
     "state": {
      "_dom_classes": [],
      "_model_module": "@jupyter-widgets/controls",
      "_model_module_version": "1.5.0",
      "_model_name": "HBoxModel",
      "_view_count": null,
      "_view_module": "@jupyter-widgets/controls",
      "_view_module_version": "1.5.0",
      "_view_name": "HBoxView",
      "box_style": "",
      "children": [
       "IPY_MODEL_4b6c8c0aee2744e5b7d8c5f437b5e14b",
       "IPY_MODEL_860b2cbaf09d42e5a3f35cb3ca20f6a4"
      ],
      "layout": "IPY_MODEL_7695d78727e04b33bfb6b8914a0e9121"
     }
    },
    "7695d78727e04b33bfb6b8914a0e9121": {
     "model_module": "@jupyter-widgets/base",
     "model_name": "LayoutModel",
     "state": {
      "_model_module": "@jupyter-widgets/base",
      "_model_module_version": "1.2.0",
      "_model_name": "LayoutModel",
      "_view_count": null,
      "_view_module": "@jupyter-widgets/base",
      "_view_module_version": "1.2.0",
      "_view_name": "LayoutView",
      "align_content": null,
      "align_items": null,
      "align_self": null,
      "border": null,
      "bottom": null,
      "display": null,
      "flex": null,
      "flex_flow": null,
      "grid_area": null,
      "grid_auto_columns": null,
      "grid_auto_flow": null,
      "grid_auto_rows": null,
      "grid_column": null,
      "grid_gap": null,
      "grid_row": null,
      "grid_template_areas": null,
      "grid_template_columns": null,
      "grid_template_rows": null,
      "height": null,
      "justify_content": null,
      "justify_items": null,
      "left": null,
      "margin": null,
      "max_height": null,
      "max_width": null,
      "min_height": null,
      "min_width": null,
      "object_fit": null,
      "object_position": null,
      "order": null,
      "overflow": null,
      "overflow_x": null,
      "overflow_y": null,
      "padding": null,
      "right": null,
      "top": null,
      "visibility": null,
      "width": null
     }
    },
    "76fa5302291945c4a48f413b2cd30f94": {
     "model_module": "@jupyter-widgets/controls",
     "model_name": "ProgressStyleModel",
     "state": {
      "_model_module": "@jupyter-widgets/controls",
      "_model_module_version": "1.5.0",
      "_model_name": "ProgressStyleModel",
      "_view_count": null,
      "_view_module": "@jupyter-widgets/base",
      "_view_module_version": "1.2.0",
      "_view_name": "StyleView",
      "bar_color": null,
      "description_width": "initial"
     }
    },
    "7c841a76e55345c485a91669afaae882": {
     "model_module": "@jupyter-widgets/base",
     "model_name": "LayoutModel",
     "state": {
      "_model_module": "@jupyter-widgets/base",
      "_model_module_version": "1.2.0",
      "_model_name": "LayoutModel",
      "_view_count": null,
      "_view_module": "@jupyter-widgets/base",
      "_view_module_version": "1.2.0",
      "_view_name": "LayoutView",
      "align_content": null,
      "align_items": null,
      "align_self": null,
      "border": null,
      "bottom": null,
      "display": null,
      "flex": null,
      "flex_flow": null,
      "grid_area": null,
      "grid_auto_columns": null,
      "grid_auto_flow": null,
      "grid_auto_rows": null,
      "grid_column": null,
      "grid_gap": null,
      "grid_row": null,
      "grid_template_areas": null,
      "grid_template_columns": null,
      "grid_template_rows": null,
      "height": null,
      "justify_content": null,
      "justify_items": null,
      "left": null,
      "margin": null,
      "max_height": null,
      "max_width": null,
      "min_height": null,
      "min_width": null,
      "object_fit": null,
      "object_position": null,
      "order": null,
      "overflow": null,
      "overflow_x": null,
      "overflow_y": null,
      "padding": null,
      "right": null,
      "top": null,
      "visibility": null,
      "width": null
     }
    },
    "80526ebe885749d3acede3608b976df6": {
     "model_module": "@jupyter-widgets/controls",
     "model_name": "DescriptionStyleModel",
     "state": {
      "_model_module": "@jupyter-widgets/controls",
      "_model_module_version": "1.5.0",
      "_model_name": "DescriptionStyleModel",
      "_view_count": null,
      "_view_module": "@jupyter-widgets/base",
      "_view_module_version": "1.2.0",
      "_view_name": "StyleView",
      "description_width": ""
     }
    },
    "80ba42dd2cd04a0680a49c13b7fbaa3a": {
     "model_module": "@jupyter-widgets/base",
     "model_name": "LayoutModel",
     "state": {
      "_model_module": "@jupyter-widgets/base",
      "_model_module_version": "1.2.0",
      "_model_name": "LayoutModel",
      "_view_count": null,
      "_view_module": "@jupyter-widgets/base",
      "_view_module_version": "1.2.0",
      "_view_name": "LayoutView",
      "align_content": null,
      "align_items": null,
      "align_self": null,
      "border": null,
      "bottom": null,
      "display": null,
      "flex": null,
      "flex_flow": null,
      "grid_area": null,
      "grid_auto_columns": null,
      "grid_auto_flow": null,
      "grid_auto_rows": null,
      "grid_column": null,
      "grid_gap": null,
      "grid_row": null,
      "grid_template_areas": null,
      "grid_template_columns": null,
      "grid_template_rows": null,
      "height": null,
      "justify_content": null,
      "justify_items": null,
      "left": null,
      "margin": null,
      "max_height": null,
      "max_width": null,
      "min_height": null,
      "min_width": null,
      "object_fit": null,
      "object_position": null,
      "order": null,
      "overflow": null,
      "overflow_x": null,
      "overflow_y": null,
      "padding": null,
      "right": null,
      "top": null,
      "visibility": null,
      "width": null
     }
    },
    "860b2cbaf09d42e5a3f35cb3ca20f6a4": {
     "model_module": "@jupyter-widgets/controls",
     "model_name": "HTMLModel",
     "state": {
      "_dom_classes": [],
      "_model_module": "@jupyter-widgets/controls",
      "_model_module_version": "1.5.0",
      "_model_name": "HTMLModel",
      "_view_count": null,
      "_view_module": "@jupyter-widgets/controls",
      "_view_module_version": "1.5.0",
      "_view_name": "HTMLView",
      "description": "",
      "description_tooltip": null,
      "layout": "IPY_MODEL_9e74ede745704f85a7ba3e7959a20877",
      "placeholder": "​",
      "style": "IPY_MODEL_cb55a98022f24390b59787b46ceccd9c",
      "value": " 1.24M/1.24M [00:04&lt;00:00, 295kB/s]"
     }
    },
    "8cbcea06860f427399cb59da28335982": {
     "model_module": "@jupyter-widgets/base",
     "model_name": "LayoutModel",
     "state": {
      "_model_module": "@jupyter-widgets/base",
      "_model_module_version": "1.2.0",
      "_model_name": "LayoutModel",
      "_view_count": null,
      "_view_module": "@jupyter-widgets/base",
      "_view_module_version": "1.2.0",
      "_view_name": "LayoutView",
      "align_content": null,
      "align_items": null,
      "align_self": null,
      "border": null,
      "bottom": null,
      "display": null,
      "flex": null,
      "flex_flow": null,
      "grid_area": null,
      "grid_auto_columns": null,
      "grid_auto_flow": null,
      "grid_auto_rows": null,
      "grid_column": null,
      "grid_gap": null,
      "grid_row": null,
      "grid_template_areas": null,
      "grid_template_columns": null,
      "grid_template_rows": null,
      "height": null,
      "justify_content": null,
      "justify_items": null,
      "left": null,
      "margin": null,
      "max_height": null,
      "max_width": null,
      "min_height": null,
      "min_width": null,
      "object_fit": null,
      "object_position": null,
      "order": null,
      "overflow": null,
      "overflow_x": null,
      "overflow_y": null,
      "padding": null,
      "right": null,
      "top": null,
      "visibility": null,
      "width": null
     }
    },
    "8d43518ea1cf4433ba1a1b4a36db2cc6": {
     "model_module": "@jupyter-widgets/controls",
     "model_name": "ProgressStyleModel",
     "state": {
      "_model_module": "@jupyter-widgets/controls",
      "_model_module_version": "1.5.0",
      "_model_name": "ProgressStyleModel",
      "_view_count": null,
      "_view_module": "@jupyter-widgets/base",
      "_view_module_version": "1.2.0",
      "_view_name": "StyleView",
      "bar_color": null,
      "description_width": "initial"
     }
    },
    "8eca1f0e454f43b4918f430533192ea5": {
     "model_module": "@jupyter-widgets/controls",
     "model_name": "FloatProgressModel",
     "state": {
      "_dom_classes": [],
      "_model_module": "@jupyter-widgets/controls",
      "_model_module_version": "1.5.0",
      "_model_name": "FloatProgressModel",
      "_view_count": null,
      "_view_module": "@jupyter-widgets/controls",
      "_view_module_version": "1.5.0",
      "_view_name": "ProgressView",
      "bar_style": "success",
      "description": "Downloading: 100%",
      "description_tooltip": null,
      "layout": "IPY_MODEL_969faf35ab5c46709e5af0f4c61f59a1",
      "max": 2247311,
      "min": 0,
      "orientation": "horizontal",
      "style": "IPY_MODEL_663f53ae36e846289f5fc47646c2aa1f",
      "value": 2247311
     }
    },
    "8fd5483c619e460a9c0a0301d60dffa3": {
     "model_module": "@jupyter-widgets/controls",
     "model_name": "FloatProgressModel",
     "state": {
      "_dom_classes": [],
      "_model_module": "@jupyter-widgets/controls",
      "_model_module_version": "1.5.0",
      "_model_name": "FloatProgressModel",
      "_view_count": null,
      "_view_module": "@jupyter-widgets/controls",
      "_view_module_version": "1.5.0",
      "_view_name": "ProgressView",
      "bar_style": "success",
      "description": "Downloading: 100%",
      "description_tooltip": null,
      "layout": "IPY_MODEL_576bffe742954893a2dc96f2e5037ad7",
      "max": 902146,
      "min": 0,
      "orientation": "horizontal",
      "style": "IPY_MODEL_603aafcdf4654f1185096efb6093e6d9",
      "value": 902146
     }
    },
    "9421946589a94bb8ae15a7636370a0b4": {
     "model_module": "@jupyter-widgets/controls",
     "model_name": "DescriptionStyleModel",
     "state": {
      "_model_module": "@jupyter-widgets/controls",
      "_model_module_version": "1.5.0",
      "_model_name": "DescriptionStyleModel",
      "_view_count": null,
      "_view_module": "@jupyter-widgets/base",
      "_view_module_version": "1.2.0",
      "_view_name": "StyleView",
      "description_width": ""
     }
    },
    "969faf35ab5c46709e5af0f4c61f59a1": {
     "model_module": "@jupyter-widgets/base",
     "model_name": "LayoutModel",
     "state": {
      "_model_module": "@jupyter-widgets/base",
      "_model_module_version": "1.2.0",
      "_model_name": "LayoutModel",
      "_view_count": null,
      "_view_module": "@jupyter-widgets/base",
      "_view_module_version": "1.2.0",
      "_view_name": "LayoutView",
      "align_content": null,
      "align_items": null,
      "align_self": null,
      "border": null,
      "bottom": null,
      "display": null,
      "flex": null,
      "flex_flow": null,
      "grid_area": null,
      "grid_auto_columns": null,
      "grid_auto_flow": null,
      "grid_auto_rows": null,
      "grid_column": null,
      "grid_gap": null,
      "grid_row": null,
      "grid_template_areas": null,
      "grid_template_columns": null,
      "grid_template_rows": null,
      "height": null,
      "justify_content": null,
      "justify_items": null,
      "left": null,
      "margin": null,
      "max_height": null,
      "max_width": null,
      "min_height": null,
      "min_width": null,
      "object_fit": null,
      "object_position": null,
      "order": null,
      "overflow": null,
      "overflow_x": null,
      "overflow_y": null,
      "padding": null,
      "right": null,
      "top": null,
      "visibility": null,
      "width": null
     }
    },
    "97f8409b1d6645b292f258cb4d697da5": {
     "model_module": "@jupyter-widgets/controls",
     "model_name": "HBoxModel",
     "state": {
      "_dom_classes": [],
      "_model_module": "@jupyter-widgets/controls",
      "_model_module_version": "1.5.0",
      "_model_name": "HBoxModel",
      "_view_count": null,
      "_view_module": "@jupyter-widgets/controls",
      "_view_module_version": "1.5.0",
      "_view_name": "HBoxView",
      "box_style": "",
      "children": [
       "IPY_MODEL_5d7e40206ecb4e9b8739fe9adbd82d6c",
       "IPY_MODEL_56df4e17f9164aec9b4e74d87e733f22"
      ],
      "layout": "IPY_MODEL_e03f9a1fec834dedb0b3acf5f5396d5a"
     }
    },
    "9e74ede745704f85a7ba3e7959a20877": {
     "model_module": "@jupyter-widgets/base",
     "model_name": "LayoutModel",
     "state": {
      "_model_module": "@jupyter-widgets/base",
      "_model_module_version": "1.2.0",
      "_model_name": "LayoutModel",
      "_view_count": null,
      "_view_module": "@jupyter-widgets/base",
      "_view_module_version": "1.2.0",
      "_view_name": "LayoutView",
      "align_content": null,
      "align_items": null,
      "align_self": null,
      "border": null,
      "bottom": null,
      "display": null,
      "flex": null,
      "flex_flow": null,
      "grid_area": null,
      "grid_auto_columns": null,
      "grid_auto_flow": null,
      "grid_auto_rows": null,
      "grid_column": null,
      "grid_gap": null,
      "grid_row": null,
      "grid_template_areas": null,
      "grid_template_columns": null,
      "grid_template_rows": null,
      "height": null,
      "justify_content": null,
      "justify_items": null,
      "left": null,
      "margin": null,
      "max_height": null,
      "max_width": null,
      "min_height": null,
      "min_width": null,
      "object_fit": null,
      "object_position": null,
      "order": null,
      "overflow": null,
      "overflow_x": null,
      "overflow_y": null,
      "padding": null,
      "right": null,
      "top": null,
      "visibility": null,
      "width": null
     }
    },
    "9f1701d18b3048dba70161118c757b0e": {
     "model_module": "@jupyter-widgets/controls",
     "model_name": "FloatProgressModel",
     "state": {
      "_dom_classes": [],
      "_model_module": "@jupyter-widgets/controls",
      "_model_module_version": "1.5.0",
      "_model_name": "FloatProgressModel",
      "_view_count": null,
      "_view_module": "@jupyter-widgets/controls",
      "_view_module_version": "1.5.0",
      "_view_name": "ProgressView",
      "bar_style": "success",
      "description": "Downloading: 100%",
      "description_tooltip": null,
      "layout": "IPY_MODEL_e39fa695379b459c8c8e5e0ba5f78960",
      "max": 864,
      "min": 0,
      "orientation": "horizontal",
      "style": "IPY_MODEL_a9d9c739b36a49c7a620469b09f0306a",
      "value": 864
     }
    },
    "a7ca4990b44c4c4baea9c38d1a91671b": {
     "model_module": "@jupyter-widgets/controls",
     "model_name": "DescriptionStyleModel",
     "state": {
      "_model_module": "@jupyter-widgets/controls",
      "_model_module_version": "1.5.0",
      "_model_name": "DescriptionStyleModel",
      "_view_count": null,
      "_view_module": "@jupyter-widgets/base",
      "_view_module_version": "1.2.0",
      "_view_name": "StyleView",
      "description_width": ""
     }
    },
    "a9d9c739b36a49c7a620469b09f0306a": {
     "model_module": "@jupyter-widgets/controls",
     "model_name": "ProgressStyleModel",
     "state": {
      "_model_module": "@jupyter-widgets/controls",
      "_model_module_version": "1.5.0",
      "_model_name": "ProgressStyleModel",
      "_view_count": null,
      "_view_module": "@jupyter-widgets/base",
      "_view_module_version": "1.2.0",
      "_view_name": "StyleView",
      "bar_color": null,
      "description_width": "initial"
     }
    },
    "a9ea84ac8cf542879841987c7d022e7f": {
     "model_module": "@jupyter-widgets/base",
     "model_name": "LayoutModel",
     "state": {
      "_model_module": "@jupyter-widgets/base",
      "_model_module_version": "1.2.0",
      "_model_name": "LayoutModel",
      "_view_count": null,
      "_view_module": "@jupyter-widgets/base",
      "_view_module_version": "1.2.0",
      "_view_name": "LayoutView",
      "align_content": null,
      "align_items": null,
      "align_self": null,
      "border": null,
      "bottom": null,
      "display": null,
      "flex": null,
      "flex_flow": null,
      "grid_area": null,
      "grid_auto_columns": null,
      "grid_auto_flow": null,
      "grid_auto_rows": null,
      "grid_column": null,
      "grid_gap": null,
      "grid_row": null,
      "grid_template_areas": null,
      "grid_template_columns": null,
      "grid_template_rows": null,
      "height": null,
      "justify_content": null,
      "justify_items": null,
      "left": null,
      "margin": null,
      "max_height": null,
      "max_width": null,
      "min_height": null,
      "min_width": null,
      "object_fit": null,
      "object_position": null,
      "order": null,
      "overflow": null,
      "overflow_x": null,
      "overflow_y": null,
      "padding": null,
      "right": null,
      "top": null,
      "visibility": null,
      "width": null
     }
    },
    "c1b6338f27e749afa91f66c52fcb250d": {
     "model_module": "@jupyter-widgets/base",
     "model_name": "LayoutModel",
     "state": {
      "_model_module": "@jupyter-widgets/base",
      "_model_module_version": "1.2.0",
      "_model_name": "LayoutModel",
      "_view_count": null,
      "_view_module": "@jupyter-widgets/base",
      "_view_module_version": "1.2.0",
      "_view_name": "LayoutView",
      "align_content": null,
      "align_items": null,
      "align_self": null,
      "border": null,
      "bottom": null,
      "display": null,
      "flex": null,
      "flex_flow": null,
      "grid_area": null,
      "grid_auto_columns": null,
      "grid_auto_flow": null,
      "grid_auto_rows": null,
      "grid_column": null,
      "grid_gap": null,
      "grid_row": null,
      "grid_template_areas": null,
      "grid_template_columns": null,
      "grid_template_rows": null,
      "height": null,
      "justify_content": null,
      "justify_items": null,
      "left": null,
      "margin": null,
      "max_height": null,
      "max_width": null,
      "min_height": null,
      "min_width": null,
      "object_fit": null,
      "object_position": null,
      "order": null,
      "overflow": null,
      "overflow_x": null,
      "overflow_y": null,
      "padding": null,
      "right": null,
      "top": null,
      "visibility": null,
      "width": null
     }
    },
    "c5374c4d9fd3420ead5b7868a21a4b35": {
     "model_module": "@jupyter-widgets/controls",
     "model_name": "HTMLModel",
     "state": {
      "_dom_classes": [],
      "_model_module": "@jupyter-widgets/controls",
      "_model_module_version": "1.5.0",
      "_model_name": "HTMLModel",
      "_view_count": null,
      "_view_module": "@jupyter-widgets/controls",
      "_view_module_version": "1.5.0",
      "_view_name": "HTMLView",
      "description": "",
      "description_tooltip": null,
      "layout": "IPY_MODEL_deddba70488f46f39cb5b55ad1b74fd2",
      "placeholder": "​",
      "style": "IPY_MODEL_d8456cc65cc44ccda634ed41b6d98428",
      "value": " 208/208 [00:01&lt;00:00, 204B/s]"
     }
    },
    "c55002b12ce142ffbfac9e65e65cec99": {
     "model_module": "@jupyter-widgets/controls",
     "model_name": "HBoxModel",
     "state": {
      "_dom_classes": [],
      "_model_module": "@jupyter-widgets/controls",
      "_model_module_version": "1.5.0",
      "_model_name": "HBoxModel",
      "_view_count": null,
      "_view_module": "@jupyter-widgets/controls",
      "_view_module_version": "1.5.0",
      "_view_name": "HBoxView",
      "box_style": "",
      "children": [
       "IPY_MODEL_9f1701d18b3048dba70161118c757b0e",
       "IPY_MODEL_e41ca7c477f248ec9998e528ea20224b"
      ],
      "layout": "IPY_MODEL_3fc4f8a209504177910e842b6631ce1f"
     }
    },
    "c89aa6430e694ff0b1a343c3bebc6174": {
     "model_module": "@jupyter-widgets/controls",
     "model_name": "ProgressStyleModel",
     "state": {
      "_model_module": "@jupyter-widgets/controls",
      "_model_module_version": "1.5.0",
      "_model_name": "ProgressStyleModel",
      "_view_count": null,
      "_view_module": "@jupyter-widgets/base",
      "_view_module_version": "1.2.0",
      "_view_name": "StyleView",
      "bar_color": null,
      "description_width": "initial"
     }
    },
    "cb55a98022f24390b59787b46ceccd9c": {
     "model_module": "@jupyter-widgets/controls",
     "model_name": "DescriptionStyleModel",
     "state": {
      "_model_module": "@jupyter-widgets/controls",
      "_model_module_version": "1.5.0",
      "_model_name": "DescriptionStyleModel",
      "_view_count": null,
      "_view_module": "@jupyter-widgets/base",
      "_view_module_version": "1.2.0",
      "_view_name": "StyleView",
      "description_width": ""
     }
    },
    "d0b013e218e843bfb9562934da8b8ed1": {
     "model_module": "@jupyter-widgets/base",
     "model_name": "LayoutModel",
     "state": {
      "_model_module": "@jupyter-widgets/base",
      "_model_module_version": "1.2.0",
      "_model_name": "LayoutModel",
      "_view_count": null,
      "_view_module": "@jupyter-widgets/base",
      "_view_module_version": "1.2.0",
      "_view_name": "LayoutView",
      "align_content": null,
      "align_items": null,
      "align_self": null,
      "border": null,
      "bottom": null,
      "display": null,
      "flex": null,
      "flex_flow": null,
      "grid_area": null,
      "grid_auto_columns": null,
      "grid_auto_flow": null,
      "grid_auto_rows": null,
      "grid_column": null,
      "grid_gap": null,
      "grid_row": null,
      "grid_template_areas": null,
      "grid_template_columns": null,
      "grid_template_rows": null,
      "height": null,
      "justify_content": null,
      "justify_items": null,
      "left": null,
      "margin": null,
      "max_height": null,
      "max_width": null,
      "min_height": null,
      "min_width": null,
      "object_fit": null,
      "object_position": null,
      "order": null,
      "overflow": null,
      "overflow_x": null,
      "overflow_y": null,
      "padding": null,
      "right": null,
      "top": null,
      "visibility": null,
      "width": null
     }
    },
    "d8456cc65cc44ccda634ed41b6d98428": {
     "model_module": "@jupyter-widgets/controls",
     "model_name": "DescriptionStyleModel",
     "state": {
      "_model_module": "@jupyter-widgets/controls",
      "_model_module_version": "1.5.0",
      "_model_name": "DescriptionStyleModel",
      "_view_count": null,
      "_view_module": "@jupyter-widgets/base",
      "_view_module_version": "1.2.0",
      "_view_name": "StyleView",
      "description_width": ""
     }
    },
    "deddba70488f46f39cb5b55ad1b74fd2": {
     "model_module": "@jupyter-widgets/base",
     "model_name": "LayoutModel",
     "state": {
      "_model_module": "@jupyter-widgets/base",
      "_model_module_version": "1.2.0",
      "_model_name": "LayoutModel",
      "_view_count": null,
      "_view_module": "@jupyter-widgets/base",
      "_view_module_version": "1.2.0",
      "_view_name": "LayoutView",
      "align_content": null,
      "align_items": null,
      "align_self": null,
      "border": null,
      "bottom": null,
      "display": null,
      "flex": null,
      "flex_flow": null,
      "grid_area": null,
      "grid_auto_columns": null,
      "grid_auto_flow": null,
      "grid_auto_rows": null,
      "grid_column": null,
      "grid_gap": null,
      "grid_row": null,
      "grid_template_areas": null,
      "grid_template_columns": null,
      "grid_template_rows": null,
      "height": null,
      "justify_content": null,
      "justify_items": null,
      "left": null,
      "margin": null,
      "max_height": null,
      "max_width": null,
      "min_height": null,
      "min_width": null,
      "object_fit": null,
      "object_position": null,
      "order": null,
      "overflow": null,
      "overflow_x": null,
      "overflow_y": null,
      "padding": null,
      "right": null,
      "top": null,
      "visibility": null,
      "width": null
     }
    },
    "e03f9a1fec834dedb0b3acf5f5396d5a": {
     "model_module": "@jupyter-widgets/base",
     "model_name": "LayoutModel",
     "state": {
      "_model_module": "@jupyter-widgets/base",
      "_model_module_version": "1.2.0",
      "_model_name": "LayoutModel",
      "_view_count": null,
      "_view_module": "@jupyter-widgets/base",
      "_view_module_version": "1.2.0",
      "_view_name": "LayoutView",
      "align_content": null,
      "align_items": null,
      "align_self": null,
      "border": null,
      "bottom": null,
      "display": null,
      "flex": null,
      "flex_flow": null,
      "grid_area": null,
      "grid_auto_columns": null,
      "grid_auto_flow": null,
      "grid_auto_rows": null,
      "grid_column": null,
      "grid_gap": null,
      "grid_row": null,
      "grid_template_areas": null,
      "grid_template_columns": null,
      "grid_template_rows": null,
      "height": null,
      "justify_content": null,
      "justify_items": null,
      "left": null,
      "margin": null,
      "max_height": null,
      "max_width": null,
      "min_height": null,
      "min_width": null,
      "object_fit": null,
      "object_position": null,
      "order": null,
      "overflow": null,
      "overflow_x": null,
      "overflow_y": null,
      "padding": null,
      "right": null,
      "top": null,
      "visibility": null,
      "width": null
     }
    },
    "e39fa695379b459c8c8e5e0ba5f78960": {
     "model_module": "@jupyter-widgets/base",
     "model_name": "LayoutModel",
     "state": {
      "_model_module": "@jupyter-widgets/base",
      "_model_module_version": "1.2.0",
      "_model_name": "LayoutModel",
      "_view_count": null,
      "_view_module": "@jupyter-widgets/base",
      "_view_module_version": "1.2.0",
      "_view_name": "LayoutView",
      "align_content": null,
      "align_items": null,
      "align_self": null,
      "border": null,
      "bottom": null,
      "display": null,
      "flex": null,
      "flex_flow": null,
      "grid_area": null,
      "grid_auto_columns": null,
      "grid_auto_flow": null,
      "grid_auto_rows": null,
      "grid_column": null,
      "grid_gap": null,
      "grid_row": null,
      "grid_template_areas": null,
      "grid_template_columns": null,
      "grid_template_rows": null,
      "height": null,
      "justify_content": null,
      "justify_items": null,
      "left": null,
      "margin": null,
      "max_height": null,
      "max_width": null,
      "min_height": null,
      "min_width": null,
      "object_fit": null,
      "object_position": null,
      "order": null,
      "overflow": null,
      "overflow_x": null,
      "overflow_y": null,
      "padding": null,
      "right": null,
      "top": null,
      "visibility": null,
      "width": null
     }
    },
    "e41ca7c477f248ec9998e528ea20224b": {
     "model_module": "@jupyter-widgets/controls",
     "model_name": "HTMLModel",
     "state": {
      "_dom_classes": [],
      "_model_module": "@jupyter-widgets/controls",
      "_model_module_version": "1.5.0",
      "_model_name": "HTMLModel",
      "_view_count": null,
      "_view_module": "@jupyter-widgets/controls",
      "_view_module_version": "1.5.0",
      "_view_name": "HTMLView",
      "description": "",
      "description_tooltip": null,
      "layout": "IPY_MODEL_6b23f8faa2de4bcb8ddc7a9cc2e59c6a",
      "placeholder": "​",
      "style": "IPY_MODEL_9421946589a94bb8ae15a7636370a0b4",
      "value": " 864/864 [00:00&lt;00:00, 1.62kB/s]"
     }
    },
    "edd0fe40238844b89c97ec09bc6cacf5": {
     "model_module": "@jupyter-widgets/base",
     "model_name": "LayoutModel",
     "state": {
      "_model_module": "@jupyter-widgets/base",
      "_model_module_version": "1.2.0",
      "_model_name": "LayoutModel",
      "_view_count": null,
      "_view_module": "@jupyter-widgets/base",
      "_view_module_version": "1.2.0",
      "_view_name": "LayoutView",
      "align_content": null,
      "align_items": null,
      "align_self": null,
      "border": null,
      "bottom": null,
      "display": null,
      "flex": null,
      "flex_flow": null,
      "grid_area": null,
      "grid_auto_columns": null,
      "grid_auto_flow": null,
      "grid_auto_rows": null,
      "grid_column": null,
      "grid_gap": null,
      "grid_row": null,
      "grid_template_areas": null,
      "grid_template_columns": null,
      "grid_template_rows": null,
      "height": null,
      "justify_content": null,
      "justify_items": null,
      "left": null,
      "margin": null,
      "max_height": null,
      "max_width": null,
      "min_height": null,
      "min_width": null,
      "object_fit": null,
      "object_position": null,
      "order": null,
      "overflow": null,
      "overflow_x": null,
      "overflow_y": null,
      "padding": null,
      "right": null,
      "top": null,
      "visibility": null,
      "width": null
     }
    },
    "edda847533c047f6bf17d1bf743945c7": {
     "model_module": "@jupyter-widgets/controls",
     "model_name": "DescriptionStyleModel",
     "state": {
      "_model_module": "@jupyter-widgets/controls",
      "_model_module_version": "1.5.0",
      "_model_name": "DescriptionStyleModel",
      "_view_count": null,
      "_view_module": "@jupyter-widgets/base",
      "_view_module_version": "1.2.0",
      "_view_name": "StyleView",
      "description_width": ""
     }
    },
    "f9a7ca5bebba483b9a55f9bb01913e9f": {
     "model_module": "@jupyter-widgets/base",
     "model_name": "LayoutModel",
     "state": {
      "_model_module": "@jupyter-widgets/base",
      "_model_module_version": "1.2.0",
      "_model_name": "LayoutModel",
      "_view_count": null,
      "_view_module": "@jupyter-widgets/base",
      "_view_module_version": "1.2.0",
      "_view_name": "LayoutView",
      "align_content": null,
      "align_items": null,
      "align_self": null,
      "border": null,
      "bottom": null,
      "display": null,
      "flex": null,
      "flex_flow": null,
      "grid_area": null,
      "grid_auto_columns": null,
      "grid_auto_flow": null,
      "grid_auto_rows": null,
      "grid_column": null,
      "grid_gap": null,
      "grid_row": null,
      "grid_template_areas": null,
      "grid_template_columns": null,
      "grid_template_rows": null,
      "height": null,
      "justify_content": null,
      "justify_items": null,
      "left": null,
      "margin": null,
      "max_height": null,
      "max_width": null,
      "min_height": null,
      "min_width": null,
      "object_fit": null,
      "object_position": null,
      "order": null,
      "overflow": null,
      "overflow_x": null,
      "overflow_y": null,
      "padding": null,
      "right": null,
      "top": null,
      "visibility": null,
      "width": null
     }
    },
    "fa761a44898b4fcfadfa4911caa38b62": {
     "model_module": "@jupyter-widgets/controls",
     "model_name": "HTMLModel",
     "state": {
      "_dom_classes": [],
      "_model_module": "@jupyter-widgets/controls",
      "_model_module_version": "1.5.0",
      "_model_name": "HTMLModel",
      "_view_count": null,
      "_view_module": "@jupyter-widgets/controls",
      "_view_module_version": "1.5.0",
      "_view_name": "HTMLView",
      "description": "",
      "description_tooltip": null,
      "layout": "IPY_MODEL_f9a7ca5bebba483b9a55f9bb01913e9f",
      "placeholder": "​",
      "style": "IPY_MODEL_179fdd16f53c4b8fb89ffe39df2f20e1",
      "value": " 902k/902k [00:03&lt;00:00, 272kB/s]"
     }
    },
    "fa952a25051841499d6a30fc6aa5dfd8": {
     "model_module": "@jupyter-widgets/base",
     "model_name": "LayoutModel",
     "state": {
      "_model_module": "@jupyter-widgets/base",
      "_model_module_version": "1.2.0",
      "_model_name": "LayoutModel",
      "_view_count": null,
      "_view_module": "@jupyter-widgets/base",
      "_view_module_version": "1.2.0",
      "_view_name": "LayoutView",
      "align_content": null,
      "align_items": null,
      "align_self": null,
      "border": null,
      "bottom": null,
      "display": null,
      "flex": null,
      "flex_flow": null,
      "grid_area": null,
      "grid_auto_columns": null,
      "grid_auto_flow": null,
      "grid_auto_rows": null,
      "grid_column": null,
      "grid_gap": null,
      "grid_row": null,
      "grid_template_areas": null,
      "grid_template_columns": null,
      "grid_template_rows": null,
      "height": null,
      "justify_content": null,
      "justify_items": null,
      "left": null,
      "margin": null,
      "max_height": null,
      "max_width": null,
      "min_height": null,
      "min_width": null,
      "object_fit": null,
      "object_position": null,
      "order": null,
      "overflow": null,
      "overflow_x": null,
      "overflow_y": null,
      "padding": null,
      "right": null,
      "top": null,
      "visibility": null,
      "width": null
     }
    }
   }
  }
 },
 "nbformat": 4,
 "nbformat_minor": 1
}
